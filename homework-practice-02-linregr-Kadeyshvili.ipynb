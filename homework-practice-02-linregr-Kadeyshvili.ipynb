{
 "cells": [
  {
   "cell_type": "markdown",
   "metadata": {
    "id": "VJEZ8P61An7I"
   },
   "source": [
    "# Лабораторная работа 2\n",
    "\n",
    "## Линейная регрессия"
   ]
  },
  {
   "cell_type": "markdown",
   "metadata": {
    "id": "5kOKUEqSSU5j"
   },
   "source": [
    "## Часть 1: Приближаем функции\n"
   ]
  },
  {
   "cell_type": "markdown",
   "metadata": {
    "id": "y3OmO16EAn7M"
   },
   "source": [
    "### Метод наименьших квадратов: постановка задачи\n",
    "\n",
    "Рассмотрим систему уравнений $Xa = y$, в которой $a$ — столбец неизвестных. Её можно переписать в векторном виде\n",
    "$$x_1 a_1 + x_2 a_2 + \\ldots + x_k a_k = y,$$\n",
    "где $x_1,\\ldots,x_k$ — столбцы матрицы $X$. Таким образом, решить исходную систему означает найти линейную комбинацию векторов $x_1,\\ldots,x_k$, равную правой части. Но что делать, если такой линейной комбинации не существует? Геометрически это означает, что вектор $y$ не лежит в подпространстве $U = \\langle x_1,\\ldots, x_k\\rangle$. В этом случае мы можем найти *псевдорешение*: вектор коэффициентов $\\hat{a}$, для которого линейная комбинация $x_1 \\hat{a}_1 + x_2 \\hat{a}_2 + \\ldots + x_k \\hat{a}_k$ хоть и не равна в точности $y$, но является наилучшим приближением — то есть ближайшей к $y$ точкой $\\hat{y}$ подпространства $U$ (иными словами, ортогональной проекцией $y$ на это подпростанство). Итак, цель наших исканий можно сформулировать двумя эквивалентными способами:\n",
    "\n",
    "1. Найти вектор $\\hat{a}$, для которого длина разности $|X\\hat{a} - y|$ минимальна;\n",
    "2. Найти ортогональную проекцию $\\hat{y}$ вектора $y$ на подпространство $U$ и представить её в виде $X\\hat{a}$.\n",
    "\n",
    "Далее мы будем предполагать, что векторы $x_1,\\ldots,x_k$ линейно независимы (если нет, то сначала имеет смысл выделить максимальную линейно независимую подсистему).\n",
    "\n",
    "На лекциях было показано, что проекция вектора $y$ на подпространство $U = \\langle x_1,\\ldots, x_k\\rangle$, записывается в виде\n",
    "$$\\hat{y} = X\\left(X^TX\\right)^{-1}X^Ty,$$\n",
    "и, соответственно, искомый вектор $\\hat{a}$ равен\n",
    "$$\\hat{a} = \\left(X^TX\\right)^{-1}X^Ty.$$"
   ]
  },
  {
   "cell_type": "markdown",
   "metadata": {
    "id": "Wbh4XI_BAn7P"
   },
   "source": [
    "### Задача линейной регрессии\n",
    "\n",
    "Начнём с примера. Допустим, вы хотите найти зависимость среднего балла S студента ФКН от его роста H, веса W, длины волос L и N — количества часов, которые он ежедневно посвящает учёбе. Представьте, что мы измерили все эти параметры для $n$ студентов и получили наборы значений: $S_1,\\ldots, S_n$, $H_1,\\ldots, H_n$ и так далее.\n",
    "\n",
    "Теперь мы хотим построить **модель**, т.е. определить алгоритм, который будет принимать на вход некоторый набор параметров (в данном случае это измеренные нами $H, W, L$ и $N$), и выдавать значение некоторой **целевой переменной** (в данном примере это $S$). Тут можно подбирать много разных умных моделей, но начать имеет смысл с самой простой, линейной:\n",
    "\n",
    "$$S = a_0 + a_1H + a_2W + a_3L + a_4N.$$\n",
    "\n",
    "Конечно, строгой линейной зависимости нет (иначе можно было бы радостно упразднить экзамены), но мы можем попробовать подобрать коэффициенты $a_0, a_1, a_2, a_3, a_4$, удовлетворяющие вот такому требованию:\n",
    "$$\\sum_{i=1}^n\\left(S_i - ( a_0 + a_1H_i + a_2W_i + a_3L_i + a_4N_i)\\right)^2 \\longrightarrow \\min$$\n",
    "Т.е. мы хотим, чтобы квадрат отклонения правой части от левой был поменьше для всех $n$ студентов. Введём несколько обозначений:\n",
    "$$X =\n",
    "\\begin{pmatrix}\n",
    "1 & H_1 & W_1 & L_1 & N_1\\\\\n",
    "1 & H_2 & W_2 & L_2 & N_2\\\\\n",
    "\\vdots & \\vdots & \\vdots & \\vdots & \\vdots \\\\\n",
    "1 & H_n & W_n & L_n & N_n\n",
    "\\end{pmatrix}, \\qquad a=\n",
    "\\begin{pmatrix}\n",
    "a_0\\\\ a_1\\\\ \\vdots\\\\ a_4\n",
    "\\end{pmatrix},\\qquad y=\n",
    "\\begin{pmatrix}\n",
    "S_1\\\\ S_2\\\\ \\vdots \\\\ S_n\n",
    "\\end{pmatrix}.$$\n",
    "\n",
    "Теперь наше требование выше можно переписать в таком виде:\n",
    "$$\n",
    "\\sum_{i=1}^n\\left(S_i - ( a_0 + a_1H_i + a_2W_i + a_3L_i + a_4N_i)\\right)^2 = |y - Xa|^2 \\longrightarrow \\min\n",
    "$$\n",
    "\n",
    "И теперь видно, что мы получили задачу на метод наименьших квадратов!\n",
    "Решая эту задачу с помощью уже известных формул, получаем оценки коэффициентов $\\hat{a}_i$ ($i = 1\\ldots,5$)."
   ]
  },
  {
   "cell_type": "markdown",
   "metadata": {
    "id": "v76yazhJAn7R"
   },
   "source": [
    "Теперь проговорим общую постановку задачи линейной регрессии. У нас есть $k$ переменных $x_1,\\ldots,x_k$ (\"регрессоров\"), через которые мы хотим выразить \"объясняемую переменную\" $y$:\n",
    "$$y = a_1x_1 + a_2x_2 + \\ldots + a_kx_k$$\n",
    "Значения всех переменных мы измерили $n$ раз (у $n$ различных объектов,  в $n$ различных моментов времени - это зависит от задачи). Подставим эти данные в предыдущее равенство:\n",
    "$$\\begin{pmatrix}\n",
    "y_1\\\\ y_2 \\\\ \\vdots \\\\ y_n\n",
    "\\end{pmatrix} = \n",
    "a_1\\begin{pmatrix}\n",
    "x_{11} \\\\ x_{21} \\\\ \\vdots \\\\ x_{n1} \\end{pmatrix} + a_2\\begin{pmatrix}\n",
    "x_{12} \\\\ x_{22} \\\\ \\vdots \\\\ x_{n2} \\end{pmatrix} + \\ldots + a_k\\begin{pmatrix}\n",
    "x_{1k} \\\\ x_{2k} \\\\ \\vdots \\\\ x_{nk} \\end{pmatrix}$$\n",
    "(здесь $x_{ij}$ - это значение $j$-го признака на $i$-м измерении). Это удобно переписать в матричном виде:\n",
    "$$\\begin{pmatrix}\n",
    "x_{11} & x_{12} & \\ldots & x_{1k}\\\\\n",
    "x_{21} & x_{22} & \\ldots & x_{2k}\\\\\n",
    "\\dots & \\dots & \\dots & \\dots\\\\\n",
    "x_{n1} & x_{n2} & \\ldots & x_{nk}\n",
    "\\end{pmatrix} \\cdot\n",
    "\\begin{pmatrix}\n",
    "a_1 \\\\ a_2 \\\\ \\vdots \\\\ a_k\n",
    "\\end{pmatrix} = \n",
    "\\begin{pmatrix}\n",
    "y_1 \\\\ y_2 \\\\ \\vdots \\\\ y_n\n",
    "\\end{pmatrix}$$\n",
    "или коротко $Xa = y$. Поскольку на практике эта система уравнений зачастую не имеет решения (ибо зависимости в жизни редко бывают действительно линейными), методом наименьших квадратов ищется псевдорешение."
   ]
  },
  {
   "cell_type": "markdown",
   "metadata": {
    "id": "kDX5t_BxAn7T"
   },
   "source": [
    "### Оценка качества. Обучение и тест \n",
    "\n",
    "После того, как вы построили регрессию и получили какую-то зависимость объясняемой переменной от регрессоров, настаёт время оценить качество регрессии. Есть много разных функционалов качества; мы пока будем говорить только о самом простом и очевидном из них: о среднеквадратичной ошибке (mean square error). Она равна\n",
    "$$\\frac1{n}|X\\hat{a} - y|^2 = \\frac1{n}\\sum_{i=1}^n\\left(\\hat{a}_1x_{i1} + \\hat{a}_2x_{i2} + \\ldots + \\hat{a}_kx_{ik} - y_i\\right)^2$$\n",
    "\n",
    "В целом, хочется искать модели с наименьшей mean square error на имеющихся данных. Однако слишком фанатичная гонка за минимизацией ошибки может привести к печальным последствиям, в чём Вам предстоит убедиться в ходе выполнения этой лабораторной.\n",
    "\n",
    "Чтобы не попадать в эту ловушку, данные обычно делят на обучающие (по которым строят модель и оценивают коэффициенты) и тестовые. Лучшей стоит счесть ту модель, для которой значение функционала качества будет меньше."
   ]
  },
  {
   "cell_type": "markdown",
   "metadata": {
    "id": "CMrD0HArAn7T"
   },
   "source": [
    "### Правила оформления графиков\n",
    "При работе с данными часто неудобно делать какие-то выводы, если смотреть на таблицу и числа в частности, поэтому важно уметь визуализировать данные. \n",
    "\n",
    "У matplotlib, конечно же, есть [документация](https://matplotlib.org/users/index.html) с большим количеством [примеров](https://matplotlib.org/examples/), но для начала достаточно знать про несколько основных типов графиков:\n",
    "- plot — обычный поточечный график, которым можно изображать кривые или отдельные точки;\n",
    "- hist — гистограмма, показывающая распределение некоторой величины;\n",
    "- scatter — график, показывающий взаимосвязь двух величин;\n",
    "- bar — столбцовый график, показывающий взаимосвязь количественной величины от категориальной.\n",
    "\n",
    "Ещё одна билиотека для визуализации: [seaborn](https://jakevdp.github.io/PythonDataScienceHandbook/04.14-visualization-with-seaborn.html). Это надстройка над matplotlib, иногда удобнее и красивее делать визуализации через неё. \n",
    "\n",
    "При выполнении этой лабораторной Вы столкнётесь с необходимостью рисовать большое количество графиков. Не забывайте про базовые принципы построения приличных графиков:\n",
    "- оси должны быть подписаны, причём не слишком мелко;\n",
    "- у графика должно быть название;\n",
    "- если изображено несколько графиков, то необходима поясняющая легенда;\n",
    "- для точек из разных выборок необходимо использовать разные цвета;\n",
    "- все линии на графиках должны быть чётко видны (нет похожих цветов или цветов, сливающихся с фоном);\n",
    "- если отображена величина, имеющая очевидный диапазон значений (например, проценты могут быть от 0 до 100), то желательно масштабировать ось на весь диапазон значений (исключением является случай, когда вам необходимо показать малое отличие, которое незаметно в таких масштабах).\n",
    "\n",
    "Помните, что проверяющий имеет право снизить оценку за неопрятные графики."
   ]
  },
  {
   "cell_type": "markdown",
   "metadata": {
    "id": "3Ivj-lm0An7U"
   },
   "source": [
    "### Формат сдачи\n",
    "Задания сдаются через систему Anytask. Инвайт можно найти на странице курса. Присылать необходимо ноутбук с выполненным заданием. Сам ноутбук называйте в формате homework-practice-02-linregr-Username.ipynb, где Username — Ваша фамилия."
   ]
  },
  {
   "cell_type": "markdown",
   "metadata": {
    "id": "sgYTlfJlAn7W"
   },
   "source": [
    "### Задание 1. Метод наименьших квадратов (3.1 баллов)\n",
    "\n",
    "**ВАЖНО! В этом задании вам нельзя использовать циклы (в том числе рекурсии, генераторы и конструкции вида map/reduce), кроме цикла в задании 1.5, который мы вам оставили. За наличие цикла в вашем коде мы поставим вам не более половины от стоимости задания!!!**"
   ]
  },
  {
   "cell_type": "markdown",
   "metadata": {
    "id": "h_HVV2__An7W"
   },
   "source": [
    "Скачайте файлы ``train.txt`` и ``test.txt``. Каждый из файлов содержит два столбца чисел, разделённых пробелами: в первом — некоторое число точек (значения аргумента $x$), во втором — значения некоторой функции $y = f(x)$ в этих точках, искажённые случайным шумом. Функцию $f$ мы вам не скажем. Ваша задача — по данным из файла ``train.txt`` (будем называть их обучающей выборкой) подобрать функцию $y = g(x)$, пристойно приближающую неизвестную вам зависимость."
   ]
  },
  {
   "cell_type": "markdown",
   "metadata": {
    "id": "qhI6CxL0An7Y"
   },
   "source": [
    "Загрузим обучающие и тестовые данные (из файла ``test.txt``)."
   ]
  },
  {
   "cell_type": "code",
   "execution_count": 276,
   "metadata": {
    "id": "ca7tXdbiAn7Z"
   },
   "outputs": [],
   "source": [
    "import numpy as np\n",
    "from os.path import join\n",
    "\n",
    "PATH = \"/Users/polinakadeyshvili/AMI/second_lab\" ### Вставить заглушку (не забудьте ввести правильный путь!)\n",
    "\n",
    "data_train = np.loadtxt(join(PATH, \"train.txt\"), delimiter=',')\n",
    "data_test = np.loadtxt(join(PATH, \"test.txt\"), delimiter=',')"
   ]
  },
  {
   "cell_type": "markdown",
   "metadata": {
    "id": "k3GshOvnAn7b"
   },
   "source": [
    "**0. [0 баллов]** Разделим значения $x$ и $y$"
   ]
  },
  {
   "cell_type": "code",
   "execution_count": 277,
   "metadata": {
    "id": "1BIIDVGjAn7b"
   },
   "outputs": [],
   "source": [
    "X_train = data_train[:,0]\n",
    "y_train = data_train[:,1]\n",
    "\n",
    "# Сделайте то же для тестовой выборки\n",
    "#╰( ͡° ͜ʖ ͡° )つ──☆*:・ﾟ\n",
    "X_test = data_test[:,0]\n",
    "y_test = data_test[:,1]"
   ]
  },
  {
   "cell_type": "markdown",
   "metadata": {
    "id": "PRLl0nkWAn7c"
   },
   "source": [
    "**1. [0,15 балла]** Найдите с помощью метода наименьших квадратов линейную функцию $y = kx + b$, наилучшим образом приближающую неизвестную зависимость. Полезные функции: ``numpy.ones(n)`` для создания массива из единиц длины $n$ и ``numpy.concatenate((А, В), axis=1)`` для слияния двух матриц по столбцам (пара ``А`` и ``В`` превращается в матрицу ``[A B]``). Напечатайте этот многочлен в виде $kx+b$."
   ]
  },
  {
   "cell_type": "code",
   "execution_count": 278,
   "metadata": {
    "id": "qTMuTy7IAn7d"
   },
   "outputs": [
    {
     "name": "stdout",
     "output_type": "stream",
     "text": [
      "y = 4.056288475638x + 2.4636203047906506\n"
     ]
    }
   ],
   "source": [
    "n = 24\n",
    "column_of_ones = np.ones(n)\n",
    "X = np.concatenate((column_of_ones[:, None], X_train[:, None]), axis = 1)\n",
    "y_pred_train = np.dot(X, np.dot(np.dot(np.linalg.inv(np.dot(X.T,X)),X.T), y_train))\n",
    "a = np.dot(np.dot(np.linalg.inv(np.dot(X.T,X)),X.T), y_train)\n",
    "b = a[0]\n",
    "k = a[1]\n",
    "print('y', ' = ', k, 'x', ' + ', b, sep='')"
   ]
  },
  {
   "cell_type": "code",
   "execution_count": 279,
   "metadata": {},
   "outputs": [
    {
     "name": "stdout",
     "output_type": "stream",
     "text": [
      "[-0.89963396  6.39760863  2.89167085  3.54393834  4.84847333  0.69026806\n",
      " -1.02193411 -0.12506631 -0.3288999   1.91326961  5.09307364  5.94917472\n",
      "  6.1122416   4.31850599 -1.34806786  2.81013741  0.119534   -1.14423427\n",
      "  3.95160552  0.40490103  1.54636914  3.42163819  0.97563509  0.119534  ]\n"
     ]
    }
   ],
   "source": [
    "X = np.concatenate((column_of_ones[:, None], X_test[:, None]), axis = 1)\n",
    "y_pred_test = np.dot(X, a)\n",
    "print(y_pred_test)"
   ]
  },
  {
   "cell_type": "markdown",
   "metadata": {
    "id": "Bnburua6An7e"
   },
   "source": [
    "**2. [0,15 балла]** Нарисуйте на плоскости точки $(x_i, y_i)$ из обеих выборок и полученную линейную функцию."
   ]
  },
  {
   "cell_type": "code",
   "execution_count": 280,
   "metadata": {},
   "outputs": [],
   "source": [
    "from matplotlib import pyplot as plt\n",
    "from numpy.polynomial.polynomial import polyval\n",
    "from numpy.polynomial import polynomial as P"
   ]
  },
  {
   "cell_type": "code",
   "execution_count": 281,
   "metadata": {
    "id": "Um_XtCIRAn7e"
   },
   "outputs": [
    {
     "data": {
      "text/plain": [
       "<matplotlib.legend.Legend at 0x7f9b82a98f40>"
      ]
     },
     "execution_count": 281,
     "metadata": {},
     "output_type": "execute_result"
    },
    {
     "data": {
      "image/png": "[encoded data removed]",
      "text/plain": [
       "<Figure size 720x720 with 2 Axes>"
      ]
     },
     "metadata": {
      "needs_background": "light"
     },
     "output_type": "display_data"
    }
   ],
   "source": [
    "plt.figure(figsize=(10, 10))\n",
    "plt.subplot(1, 2, 1)\n",
    "plt.scatter(X_train, y_train, label='train')\n",
    "plt.title(\"Визуализация данных для обучения\")\n",
    "plt.xlabel(\"значения X_train\")\n",
    "plt.ylabel(\"Значения y_train\")\n",
    "plt.plot(X_train, y_pred_train, label=\"линейное приближение\")\n",
    "plt.legend()\n",
    "\n",
    "plt.subplot(1, 2, 2)\n",
    "plt.scatter(X_test, y_test,label='test')\n",
    "plt.title(\"визуализация данных для тестов\")\n",
    "plt.xlabel(\"значения X_test\")\n",
    "plt.ylabel(\"значения y_test\")\n",
    "plt.plot(X_test, y_pred_test, label=\"линейное приближение\")\n",
    "plt.legend()"
   ]
  },
  {
   "cell_type": "markdown",
   "metadata": {
    "id": "crzpARViAn7f"
   },
   "source": [
    "**3. [0,4 балла]** Глядя на данные, подумайте, многочленом какой степени можно было бы лучше всего приблизить эту функцию с точки зрения минимизации среднеквадратичной ошибки на обучающей выборке. Найдите этот многочлен и сохраните его коэффициенты в массив `poly_coef` (от младшего члена к старшему). Обязательно обоснуйте выбор степени многочлена."
   ]
  },
  {
   "cell_type": "markdown",
   "metadata": {
    "id": "PSywLPifAn7g"
   },
   "source": [
    "В общем случае данные лучше всего приближать с помощью полинома, степени которого на единицу меньше, чем количество данных точек, но конкретно с этим датасетом оказалось, что среднеквадратичная ошибка меньше всего для полинома 18 степени, поэтому им я и буду приближать обучающую выборку"
   ]
  },
  {
   "cell_type": "code",
   "execution_count": 282,
   "metadata": {},
   "outputs": [],
   "source": [
    "X_vand = np.vander(X_train, 19)\n",
    "# print(X_vand)\n",
    "y_vand = np.dot(X_vand, np.dot(np.dot(np.linalg.inv(np.dot(X_vand.T,X_vand)),X_vand.T), y_train))\n",
    "a = np.dot(np.dot(np.linalg.inv(np.dot(X_vand.T,X_vand)),X_vand.T), y_train)\n",
    "poly_coef = a[::-1]"
   ]
  },
  {
   "cell_type": "markdown",
   "metadata": {
    "id": "bVlu8GtRAn7h"
   },
   "source": [
    "**4. [0,15 балла]** Нарисуйте его график на одном чертеже вместе с точками $(x_i, y_i)$ из обеих выборок. Удалось ли графику пройти через все точки из выборки? Попробуйте объяснить, почему?"
   ]
  },
  {
   "cell_type": "code",
   "execution_count": 283,
   "metadata": {
    "id": "2EjDMWVQAn7i"
   },
   "outputs": [
    {
     "data": {
      "text/plain": [
       "[<matplotlib.lines.Line2D at 0x7f9b72c8feb0>]"
      ]
     },
     "execution_count": 283,
     "metadata": {},
     "output_type": "execute_result"
    },
    {
     "data": {
      "image/png": "[encoded data removed]",
      "text/plain": [
       "<Figure size 1080x1080 with 1 Axes>"
      ]
     },
     "metadata": {
      "needs_background": "light"
     },
     "output_type": "display_data"
    }
   ],
   "source": [
    "plt.figure(figsize=(15, 15))\n",
    "plt.scatter(X_train, y_train, label = \"значения обучающих данных\")\n",
    "plt.scatter(X_test, y_test, label = 'значения тестовых данных')\n",
    "plt.title(\"Получено из предсказания\")\n",
    "plt.xlabel(\"значения X_train\")\n",
    "plt.ylabel(\"Значения предсказания\")\n",
    "x = np.linspace(-1, 1, 500)\n",
    "y = polyval(x, poly_coef)\n",
    "plt.ylim(-4, 8.5)\n",
    "\n",
    "\n",
    "plt.legend()\n",
    "plt.plot(x, y)\n"
   ]
  },
  {
   "cell_type": "markdown",
   "metadata": {},
   "source": [
    "Данный график прошел почти через все точки, точки же, через который он не прошел, скорее всего являются \"выбросами\". Если точки являются выбросами, то даже график полинома двадцать третей степени не пройдет через эти точки"
   ]
  },
  {
   "cell_type": "markdown",
   "metadata": {
    "id": "mlVLDqILAn7j"
   },
   "source": [
    "**5. [0,5 балла]** Для $k = 1,2,3,\\ldots,10$ найдите многочлен $\\hat{f}_k$ степени $k$, наилучшим образом приближающий неизвестную зависимость. Сохраните найденные коэффициенты многочленов в матрицу `poly_coefs` (коэффициенты многочлена степени $j$ должны быть сохранены в $j$-й строке матрицы от младшего члена к старшему)."
   ]
  },
  {
   "cell_type": "code",
   "execution_count": 284,
   "metadata": {},
   "outputs": [],
   "source": [
    "def CalculatingMistake(X, a, y):\n",
    "    tmp =  np.dot((np.dot(X, a) - y).T, (np.dot(X, a) - y))\n",
    "    mistake = tmp / 24\n",
    "    return mistake"
   ]
  },
  {
   "cell_type": "code",
   "execution_count": 286,
   "metadata": {},
   "outputs": [],
   "source": [
    "best_f = []\n",
    "least_mistake = 10000000000000\n",
    "X = np.ones(X_train.size)\n",
    "a = np.array([np.dot(X.T, y_train)])\n",
    "poly_coefs = []\n",
    "\n",
    "for k in range(10):\n",
    "    \n",
    "    A = X_train ** (k+1)\n",
    "    X = np.column_stack((X, A))\n",
    "    a = np.dot(np.dot(np.linalg.inv(np.dot(X.T,X)),X.T), y_train)\n",
    "    \n",
    "    coeff = np.pad(a, (0, 9 - k), 'constant')\n",
    "    if k == 0:\n",
    "        poly_coefs = coeff\n",
    "    else:\n",
    "        poly_coefs = np.vstack((poly_coefs, coeff))\n",
    "    \n",
    "    current_mistake = CalculatingMistake(X, a, y_train)\n",
    "\n",
    "    if current_mistake < least_mistake:\n",
    "        best_f = poly_coefs[k-1:k]\n",
    "        least_mistake = current_mistake"
   ]
  },
  {
   "cell_type": "markdown",
   "metadata": {
    "id": "XZm2UpUEAn7k"
   },
   "source": [
    "**6. [0,6 балл]** Для каждого из многочленов из задания 1.5, а также для многочлена из задания 1.4 найдите среднеквадратическую ошибку на обучающих данных и на тестовых данных: $\\frac1{n}\\sum_{i=1}^n\\left( \\hat{f}_k(x_i) - y_i \\right)^2$. Полученные значения ошибок сохраните в матрицу `errors` высоты 11 и ширины 2. В первом столбце матрицы должны стоять значения ошибок на тренировочных данных, во втором --- на тестовых. В первых 10 строках матрицы должны стоять значения ошибок для многочленов соответствующих степений из задания 1.5, в 11-й строке --- значение ошибки для многочлена из задания 1.4."
   ]
  },
  {
   "cell_type": "code",
   "execution_count": 287,
   "metadata": {},
   "outputs": [],
   "source": [
    "def CalcMistake(k, X, y):\n",
    "    func = polyval(X, poly_coef, tensor=True)\n",
    "    res_k = np.dot(P.polysub(func,y),P.polysub(func,y))\n",
    "    res_k /= 24\n",
    "    return res_k"
   ]
  },
  {
   "cell_type": "code",
   "execution_count": 288,
   "metadata": {},
   "outputs": [],
   "source": [
    "def CalcError1(X,y):\n",
    "    tmp = polyval(X, poly_coefs.T, tensor=True)\n",
    "    A = tmp - y\n",
    "    error = np.diagonal(np.dot(A,A.T)) / 24\n",
    "    return error"
   ]
  },
  {
   "cell_type": "code",
   "execution_count": 289,
   "metadata": {},
   "outputs": [
    {
     "data": {
      "text/plain": [
       "array([[6.73787907e-01, 1.65559241e+00],\n",
       "       [6.63962311e-01, 1.56840984e+00],\n",
       "       [6.26426164e-01, 1.48195650e+00],\n",
       "       [4.36975836e-01, 2.24179410e+00],\n",
       "       [3.63644276e-01, 2.38503935e+00],\n",
       "       [3.63335325e-01, 2.45617717e+00],\n",
       "       [3.46469349e-01, 3.21445996e+00],\n",
       "       [3.43671833e-01, 3.66895541e+00],\n",
       "       [3.31903254e-01, 5.23671494e+00],\n",
       "       [3.28424922e-01, 7.36984985e+00],\n",
       "       [9.18392408e-02, 1.97652759e+06]])"
      ]
     },
     "execution_count": 289,
     "metadata": {},
     "output_type": "execute_result"
    }
   ],
   "source": [
    "error_train = CalcError1(X_train, y_train)\n",
    "error_train = np.append(error_train,CalcMistake(4, X_train, y_train))\n",
    "error_test = CalcError1(X_test, y_test)\n",
    "error_test = np.append(error_test,CalcMistake(4, X_test, y_test))\n",
    "errors = np.column_stack((error_train, error_test))\n",
    "errors[:11, :2]"
   ]
  },
  {
   "cell_type": "markdown",
   "metadata": {
    "id": "VKns2ndWAn7l"
   },
   "source": [
    "**7. [0,5 балла]** Для $k = 1,2,3,4,6$ нарисуйте графики полученных многочленов на одном чертеже вместе с точками $(x_i, y_i)$ из обеих выборок (возможно, график стоит сделать побольше; это делается командой `plt.figure(figsize=(width, height))`)."
   ]
  },
  {
   "cell_type": "code",
   "execution_count": 290,
   "metadata": {
    "id": "Vwt574k1An7m"
   },
   "outputs": [
    {
     "data": {
      "image/png": "[encoded data removed]",
      "text/plain": [
       "<Figure size 1080x1080 with 1 Axes>"
      ]
     },
     "metadata": {
      "needs_background": "light"
     },
     "output_type": "display_data"
    }
   ],
   "source": [
    "plt.figure(figsize=(15, 15))\n",
    "x = np.linspace(-1, 1, 110000)\n",
    "\n",
    "y1 = polyval(x, poly_coefs[0])\n",
    "plt.plot(x, y1, label='k = 1')\n",
    "\n",
    "y2 = polyval(x, poly_coefs[1])\n",
    "plt.plot(x, y2, label = 'k = 2')\n",
    "\n",
    "y3 = polyval(x, poly_coefs[2])\n",
    "plt.plot(x, y3, label = 'k = 3')\n",
    "\n",
    "y4 = polyval(x, poly_coefs[3])\n",
    "plt.plot(x, y4, label='k = 4')\n",
    "\n",
    "y6 = polyval(x, poly_coefs[5])\n",
    "plt.plot(x, y6, label='k = 6')\n",
    "\n",
    "plt.scatter(X_test, y_test, label ='значения тестовых данных')\n",
    "plt.scatter(X_train, y_train, label ='значения данных для обучения')\n",
    "plt.legend()\n",
    "plt.show()"
   ]
  },
  {
   "cell_type": "markdown",
   "metadata": {
    "id": "YXMClHOOAn7n"
   },
   "source": [
    "**8. [0,65 балла]** Что происходит с ошибкой на тестовых данных при росте степени многочлена? Казалось бы, чем больше степень, тем более сложным будет многочлен и тем лучше он будет приближать нашу функцию. Подтверждают ли это ваши наблюдения? Как вам кажется, чем объясняется поведение ошибки на тестовых данных при $k = 10$? Как называется наблюдаемый вами эффект?"
   ]
  },
  {
   "cell_type": "markdown",
   "metadata": {
    "id": "-6rGUQMqAn7n"
   },
   "source": [
    "**Ответ:** ошибка на тестовых данных с ростом степени многочлена увеличилась. Построенный график показывает, что обученная модель хорошо приближает данные из train и плозо данные из test. Это объясняется тем, что модель переобучилась, поэтому при росте стпени многочлена приближение тестовых данных ухудшается. То есть наша модель стала слишком зависима от тренирующих данных и стала плохо работать в общем случае"
   ]
  },
  {
   "cell_type": "markdown",
   "metadata": {
    "id": "iwhYglpqSgh1"
   },
   "source": [
    "## Часть 2: Обучаем машины"
   ]
  },
  {
   "cell_type": "markdown",
   "metadata": {
    "id": "KFN99QhUAn7o"
   },
   "source": [
    "### Задание 2. Линейная регрессия (3 балла)"
   ]
  },
  {
   "cell_type": "markdown",
   "metadata": {
    "id": "EIPGe5d0JSgq"
   },
   "source": [
    "В этом задании вам предстоит заняться предсказанием цен на алмазы. Скачайте файл `diamonds_features.csv`, содержащий данные, с которыми вам предстоит работать. Запустите следующую ячейку:"
   ]
  },
  {
   "cell_type": "code",
   "execution_count": 291,
   "metadata": {
    "id": "8_G9QdO6PdP4"
   },
   "outputs": [
    {
     "name": "stdout",
     "output_type": "stream",
     "text": [
      "[['0.8' 'Ideal' 'F' 'VS1' '62.4' '55.0' '5.92' '5.88' '3.68' '3884']\n",
      " ['0.91' 'Premium' 'F' 'SI2' '61.4' '60.0' '6.23' '6.21' '3.82' '3618']\n",
      " ['1.28' 'Premium' 'I' 'VS2' '61.7' '60.0' '7.05' '6.95' '4.32' '6762']\n",
      " ['0.41' 'Very Good' 'F' 'SI1' '61.9' '55.0' '4.78' '4.81' '2.97' '769']\n",
      " ['1.07' 'Premium' 'F' 'SI2' '61.8' '59.0' '6.53' '6.57' '4.05' '4560']]\n"
     ]
    }
   ],
   "source": [
    "data = np.loadtxt(\"diamonds_features.csv\", delimiter=\",\", dtype=\"str\")[1:, :]\n",
    "print(data[:5, :])"
   ]
  },
  {
   "cell_type": "markdown",
   "metadata": {
    "id": "ghn2xvL5P8BK"
   },
   "source": [
    "Мы вывели для вас первые 5 строчек данных. Описания значений в колонках вы можете найти в файле `diamonds_descriptions.txt`.\n",
    "\n",
    "Глобально в этом задании вам предстоит научиться строить модель линейной регрессии для предсказания цены алмаза по его признакам. Данные устроены таким образом, что в каждой строчке располагаются признаки, описывающие объект (алмаз), а в каждой фиксированной колонке --- всевозможные значения конкретного признака для всех объектов в данных."
   ]
  },
  {
   "cell_type": "markdown",
   "metadata": {
    "id": "fJEFOEpJAn7p"
   },
   "source": [
    "**0. [0 баллов]** Разделите выборку на обучающую и тестовую. Делать это лучше случайным образом (ведь вы не знаете, как создатели датасета упорядочили объекты); рекомендуем вам для этого функцию [sklearn.model_selection.train_test_split](https://scikit-learn.org/stable/modules/generated/sklearn.model_selection.train_test_split.html) с параметром `test_size=0.3`. Обязательно зафиксируйте параметр `random_state`."
   ]
  },
  {
   "cell_type": "code",
   "execution_count": 292,
   "metadata": {
    "id": "RoFzvGRBAn7q"
   },
   "outputs": [],
   "source": [
    "from sklearn.model_selection import train_test_split\n",
    "\n",
    "train, test = train_test_split(data, test_size=0.3, random_state=42)\n",
    "X2_train = train[:, :9]\n",
    "y2_train = train[:, 9:]\n",
    "X2_test = test[:, :9]\n",
    "y2_test = test[:, 9:]"
   ]
  },
  {
   "cell_type": "markdown",
   "metadata": {
    "id": "dVO-0MsaTXXT"
   },
   "source": [
    "Теперь у вас есть две выборки, каждая из которых содержит случайное подмножество наших данных. Обучающую выборку мы в дальнейшем будем использовать для обучения модели линейной регрессии, а тестовую, соответственно, для теста.\n",
    "\n",
    "**ВАЖНО: за обучение модели на тестовой выборке будем ставить 0 за весь пункт!**"
   ]
  },
  {
   "cell_type": "markdown",
   "metadata": {
    "id": "JEQLiBg-_zfK"
   },
   "source": [
    "### Работаем с числовыми данными"
   ]
  },
  {
   "cell_type": "markdown",
   "metadata": {
    "id": "bHSfXGDeC0b1"
   },
   "source": [
    "Сейчас ваши данные содержат как привычные вам числовые признаки, описывающие объект, так и категориальные признаки, которые описывают принадлежность объекта к той или иной категории, и в данных представляются строками. Что делать с данными, которые представлены строками --- мы разберёмся чуть позже, а пока давайте забудем, что они у нас есть, и будем работать только с числовыми."
   ]
  },
  {
   "cell_type": "markdown",
   "metadata": {
    "id": "KGGUh0UBEHSG"
   },
   "source": [
    "**0,5. [0 баллов]** Заполните переменные `numeric_features` и `categorical_features` индексами столбцов в данных, содержащих числовые и категориальные признаки соответственно. После этого можно проверить, что массив `data[:, numeric_features]` содержит только числовые данные."
   ]
  },
  {
   "cell_type": "code",
   "execution_count": 293,
   "metadata": {
    "id": "kZWCocxzE-dv"
   },
   "outputs": [
    {
     "name": "stdout",
     "output_type": "stream",
     "text": [
      "[['0.8' '62.4' '55.0' '5.92' '5.88' '3.68']\n",
      " ['0.91' '61.4' '60.0' '6.23' '6.21' '3.82']\n",
      " ['1.28' '61.7' '60.0' '7.05' '6.95' '4.32']\n",
      " ...\n",
      " ['0.31' '61.4' '56.0' '4.38' '4.41' '2.7']\n",
      " ['0.36' '62.0' '59.0' '4.56' '4.51' '2.81']\n",
      " ['0.31' '59.0' '62.0' '4.41' '4.43' '2.61']]\n"
     ]
    }
   ],
   "source": [
    "numeric_features = [0, 4, 5, 6, 7, 8]\n",
    "categorical_features = np.arange(1, 4)\n",
    "print(data[:, numeric_features])"
   ]
  },
  {
   "cell_type": "markdown",
   "metadata": {
    "id": "Fiqc6nBwFVpP"
   },
   "source": [
    "**1. [0,3 баллов]** Решите задачу линейной регрессии для предсказания цены алмаза по его числовым признакам (не забудьте, что линейная модель должна также содержать свободный от признаков член) и протестируйте ваше решение на тестовых данных. Выведите полученные регрессионные коэффициенты для каждого признака. Попробуйте проинтерпретировать полученные коэффициенты: сравните их друг с другом, посмотрите на их знаки и на абсолютную величину и попробуйте на основе этого придать им житейский смысл. Согласуется ли построенная интерпретация модели с вашими представлениями о жизни? \n",
    "\n",
    "*Примечание: обратите внимание, сейчас все данные у вас хранятся в строковом виде. Чтобы работать с ними как с числами, необоходимо явно привести их к типу float. В NumPy для этого есть специальная удобная команда astype.*"
   ]
  },
  {
   "cell_type": "code",
   "execution_count": 294,
   "metadata": {},
   "outputs": [],
   "source": [
    "def CalculateError1(y_pred, y):\n",
    "    tmp =  np.dot((y_pred - y).T, (y_pred - y))\n",
    "    error = tmp / y.shape[0]\n",
    "    return error"
   ]
  },
  {
   "cell_type": "code",
   "execution_count": 295,
   "metadata": {},
   "outputs": [],
   "source": [
    "y_main_train = y2_train.astype(float)\n",
    "y_main_test = y2_test.astype(float)"
   ]
  },
  {
   "cell_type": "code",
   "execution_count": 296,
   "metadata": {
    "id": "Q-rpxCQLH1VY"
   },
   "outputs": [
    {
     "name": "stdout",
     "output_type": "stream",
     "text": [
      "constant : [20320.69383296]\n",
      "carrat : [10786.23794008]\n",
      "depth : [-199.27867511]\n",
      "table : [-95.04055851]\n",
      "x : [-1308.08011018]\n",
      "y : [24.32725833]\n",
      "z : [37.04825216]\n",
      "[[2113575.91712017]]\n"
     ]
    }
   ],
   "source": [
    "X_train_num = X2_train[:, numeric_features].astype(float)\n",
    "\n",
    "column_ones = np.ones(X_train_num.shape[0])\n",
    "\n",
    "X2 = np.concatenate((column_ones[:, None], X_train_num), axis = 1)\n",
    "\n",
    "a2 = np.dot(np.dot(np.linalg.inv(np.dot(X2.T, X2)), X2.T),y_main_train)\n",
    "\n",
    "X_test_num = X2_test[:, numeric_features].astype(float)\n",
    "X_test_lin = np.concatenate((np.ones(X_test_num.shape[0])[:, None], X_test_num), axis = 1)\n",
    "y_pred = np.dot(X_test_lin, a2)\n",
    "error = CalculateError1(y_pred, y_main_test)\n",
    "print(\"constant :\", a2[0])\n",
    "print(\"carrat :\", a2[1])\n",
    "print(\"depth :\", a2[2])\n",
    "print(\"table :\", a2[3])\n",
    "print(\"x :\", a2[4])\n",
    "print(\"y :\", a2[5])\n",
    "print(\"z :\", a2[6])\n",
    "print(error)"
   ]
  },
  {
   "cell_type": "raw",
   "metadata": {
    "id": "Se87BnStIAOK"
   },
   "source": [
    "Интерпретация модели здесь: Как мы можем видеть наибольшее влияние на модель оказывают категории, чьи коэффициенты самые большие по абсолютной величине, таким параметром является число карат. Категории, чьи коэффициенты в этой модели отрицательные влияют на модель так: чем больше значение параметра, тем меньше цена, а чем меньше значение параметра - тем больше цена. Такими параметрами являются depth, table, x. Наименьшее влияние на модель оказывают категории y и z. Полученный результат согласуется с законами логики, ведь все мы знаем, чем больше карат - тем лучше, и не столь важно насколько большим при этом будет сам бриллиант"
   ]
  },
  {
   "cell_type": "markdown",
   "metadata": {
    "id": "6uGLZR-0TxaP"
   },
   "source": [
    "Если вы всё сделали правильно, у вас должны были получиться довольно большие по абсолютной величине коэффициенты."
   ]
  },
  {
   "cell_type": "markdown",
   "metadata": {
    "id": "58iMlV0TUHHz"
   },
   "source": [
    "**2. [0,15 баллов]** Попробуйте объяснить, почему ситуация, когда модель имеет большие по модулю коэффиценты, нежелательна?\n",
    "\n",
    "Подсказка: Вы можете попытаться проиллюстрировать свои рассуждения, искусственно описав с помощью исследуемых признаков два алмаза, которые по вашему мнению должны иметь одинаковую цену, и проверить, выдаст ли построенная модель близкие предсказания на этих объектах."
   ]
  },
  {
   "cell_type": "markdown",
   "metadata": {
    "id": "a3oKgoUjWiem"
   },
   "source": [
    "Если какой-то коэффициент в модели очень велик, то модель оказывается очень чувтсивтельна к только одному параметру, а остальные параметры не так на нее влияют, поэтому незначительное изменение самого большого параметра сильно изменит итог предсказания. Так же изменения других параметров, чьи абсолютные значения не так велики почти не будут влиять на предсказание. Таким образом, модель становится не точной"
   ]
  },
  {
   "cell_type": "markdown",
   "metadata": {
    "id": "ycsEn6t9nwLB"
   },
   "source": [
    "**3. [0.2 баллов]** Нарисуйте гистограмму, характеризующую распределение объясняемой переменной в обучающей выборке. На такой диаграмме по оси `x` должны быть сгруппированные значения объясняемой переменной, а по оси `y` --- количество объектов выборки с таким значением. Столбцов на вашем графике должно быть не менее 50."
   ]
  },
  {
   "cell_type": "code",
   "execution_count": 297,
   "metadata": {
    "id": "itrJbGIl-I9Q"
   },
   "outputs": [
    {
     "data": {
      "text/plain": [
       "Text(0, 1, 'quantity')"
      ]
     },
     "execution_count": 297,
     "metadata": {},
     "output_type": "execute_result"
    },
    {
     "data": {
      "image/png": "[encoded data removed]",
      "text/plain": [
       "<Figure size 720x720 with 1 Axes>"
      ]
     },
     "metadata": {
      "needs_background": "light"
     },
     "output_type": "display_data"
    }
   ],
   "source": [
    "plt.figure(figsize=(10, 10))\n",
    "plt.hist(y_main_train, bins = 60)\n",
    "plt.title(\"distribution of a price in training data\")\n",
    "plt.xlabel('price', loc = 'right')\n",
    "plt.ylabel('quantity', loc = 'top')"
   ]
  },
  {
   "cell_type": "markdown",
   "metadata": {
    "id": "SEvOIN0DQyhZ"
   },
   "source": [
    "В левой части гистограммы располагаются небольшие значения целевой переменной, и объектов с таким значением в выборке довольно много (не забываем, что у нас тут не абстрактная математика в вакууме, мы тут цену алмазов предсказываем!); с увеличением значения таргета (целевой переменной) количество соответствующих объектов в выборке убывает. Сначала число объектов убывает довольно стремительно, но с некоторого момента разница в высоте между соседними столбцами уже почти незаметна. Такое явление называется \"распределение с тяжёлым хвостом\", и оно не очень желательно при построении модели."
   ]
  },
  {
   "cell_type": "markdown",
   "metadata": {
    "id": "PO37Qg7BTyqw"
   },
   "source": [
    "Попробуем избавиться от тяжёлого хвоста. Для этого нужно применить к таргету какую-нибудь медленнорастущую биективную функцию, например логарифм. \n",
    "\n",
    "<!-- Однако вспомним, что мы намеренно отмасштабировали таргет таким образом, чтобы среди его значений был 0, поэтому нужно придумать ещё какое-то преобразование, чтобы все значения целевой переменной попали в область определения логарифма. -->"
   ]
  },
  {
   "cell_type": "markdown",
   "metadata": {
    "id": "nXb63LraZaCL"
   },
   "source": [
    "**4. [0,25 баллов]** Прологарифмируйте целевую переменную и нарисуйте график распределения логарифмированного таргета. Сильно ли он отличается от предыдущего графика? Попробуйте объяснить, почему явление \"распределения с тяжёлым хвостом\" нежелательно при построении модели."
   ]
  },
  {
   "cell_type": "code",
   "execution_count": 299,
   "metadata": {
    "id": "AdgFVEebZwPT"
   },
   "outputs": [
    {
     "data": {
      "text/plain": [
       "Text(0.5, 1.0, 'distribution of a price in training data with y as a logarithm of y')"
      ]
     },
     "execution_count": 299,
     "metadata": {},
     "output_type": "execute_result"
    },
    {
     "data": {
      "image/png": "[encoded data removed]",
      "text/plain": [
       "<Figure size 576x576 with 1 Axes>"
      ]
     },
     "metadata": {
      "needs_background": "light"
     },
     "output_type": "display_data"
    }
   ],
   "source": [
    "plt.figure(figsize=(8, 8))\n",
    "y_log_train = np.log(y_main_train[:])\n",
    "plt.hist(y_log_train, bins = 60)\n",
    "plt.title(\"distribution of a price in training data with y as a logarithm of y\")"
   ]
  },
  {
   "cell_type": "markdown",
   "metadata": {
    "id": "jrlDuorpEiU8"
   },
   "source": [
    "Эти графики сильно отличаются. Тяжелый хвост не желателен в таких моделях, потому что линейная решрессия лучше всего работает на нормальном распределении(которое быстро затухает). Наличие тяжелого хвоста говорит о том что среднеквадратичная ошибка, которую мы будем получать будет больше, чем при нормальном распределении, а значит наша модель может работать не так точно, как нам хотелось"
   ]
  },
  {
   "cell_type": "markdown",
   "metadata": {
    "id": "Ty0T3kk5EiZ-"
   },
   "source": [
    "Снова обучите линейную модель, считая целевой переменной логарифмированный таргет. Помните, что чтобы протестировать полученную линейную модель, важно взять экспоненту от полученных предсказаний."
   ]
  },
  {
   "cell_type": "code",
   "execution_count": 300,
   "metadata": {
    "id": "NbWAprptKEt0"
   },
   "outputs": [
    {
     "name": "stdout",
     "output_type": "stream",
     "text": [
      "[[2514576.8901967]]\n"
     ]
    }
   ],
   "source": [
    "X_train_num = X2_train[:, numeric_features].astype(float)\n",
    "\n",
    "column_ones = np.ones(X_train_num.shape[0])\n",
    "\n",
    "y_log_train = np.log(y_main_train[:])\n",
    "\n",
    "X3 = np.concatenate((column_ones[:, None], X_train_num), axis = 1)\n",
    "\n",
    "a3 = np.dot(np.dot(np.linalg.inv(np.dot(X3.T, X3)), X3.T),y_log_train)\n",
    "\n",
    "X_test_num = X2_test[:, numeric_features].astype(float)\n",
    "\n",
    "column_ones = np.ones(X_test_num.shape[0])\n",
    "\n",
    "X3_for_test = np.concatenate((column_ones[:, None], X_test_num), axis = 1)\n",
    "\n",
    "y3_pred_test = np.exp(np.dot(X3_for_test, a3))\n",
    "\n",
    "test_error = CalculateError1(y3_pred_test, y_main_test)\n",
    "\n",
    "print(test_error)"
   ]
  },
  {
   "cell_type": "markdown",
   "metadata": {
    "id": "NTSiJAeYE4EM"
   },
   "source": [
    "Удалось ли добиться лучшего качества?"
   ]
  },
  {
   "cell_type": "markdown",
   "metadata": {
    "id": "zugn9a3fE8nb"
   },
   "source": [
    "Ответ: среднеквадратичная ошибка возросла, но это не значит, что для всего диапазона цен ошибка с логарифмированием больше, чем ошибка без него. Скорее всего большинство ошибок для конкретных цен из диапазона благодаря логарифмированию уменьшились, но общая ошибка увеличилась в силу учеличения цены, которая входит в модель с наибольшим весом (большинство алмазов стоят столько)"
   ]
  },
  {
   "cell_type": "markdown",
   "metadata": {
    "id": "NHn1U5xJaPVH"
   },
   "source": [
    "### Работаем с категориальными признаками"
   ]
  },
  {
   "cell_type": "markdown",
   "metadata": {
    "id": "_CLrKbkJdK2b"
   },
   "source": [
    "До сих пор мы работали с данными, которые представляются числами. Однако часто в датасетах объекты описываются не только признаками, содержащими числа, но и строковыми признаками, определяющими принадлежность объекта к некоторой категории. Такие признаки называются категориальными. Важно не выкидывать их из модели, потому что часто они содержат довольно полезную информацию об объекте, которую хорошая модель должна обязательно учитывать.\n",
    "\n",
    "В этом разделе мы будем рассматривать только категориальные признаки, временно забыв про числовые.\n",
    "\n",
    "Естесственно, нам нужно придумать, как закодировать категориальные признаки числами. Есть довольно много подходов к такой кодировке, но мы рассмотрим два самых базовых. Первая мысль, которая приходит в голову такая: давайте занумеруем все категории фиксированного признака, и заменим их строковое представление соответствующим численным."
   ]
  },
  {
   "cell_type": "markdown",
   "metadata": {
    "collapsed": true,
    "id": "Zh1vygTdAn7u"
   },
   "source": [
    "**5. [0,3 баллов]** Реализуйте описанную выше процедуру кодирования для всех категориальных признаков в выборке. Вы можете сделать это самостоятельно, а можете разобраться в классе `OrdinalEncoder` библиотеки `sklearn`. Обучите линейную модель на закодированных категориальных признаках и протестируйте. "
   ]
  },
  {
   "cell_type": "code",
   "execution_count": 301,
   "metadata": {
    "id": "FETTkQQGo_-P"
   },
   "outputs": [
    {
     "name": "stdout",
     "output_type": "stream",
     "text": [
      "[[2. 1. 7.]\n",
      " [1. 5. 2.]\n",
      " [4. 4. 2.]\n",
      " ...\n",
      " [3. 6. 4.]\n",
      " [3. 1. 4.]\n",
      " [2. 3. 4.]]\n"
     ]
    }
   ],
   "source": [
    "from sklearn.preprocessing import OrdinalEncoder\n",
    "\n",
    "enc = OrdinalEncoder()\n",
    "X1_train_cat = enc.fit_transform(X2_train[:, categorical_features], y=None)\n",
    "\n",
    "X1_test_cat = enc.fit_transform(X2_test[:, categorical_features], y=None)\n",
    "print(X1_train_cat)"
   ]
  },
  {
   "cell_type": "markdown",
   "metadata": {},
   "source": [
    "обучим модель на этих закодированных данных"
   ]
  },
  {
   "cell_type": "code",
   "execution_count": 302,
   "metadata": {},
   "outputs": [
    {
     "name": "stdout",
     "output_type": "stream",
     "text": [
      "[[15048362.37689322]]\n"
     ]
    }
   ],
   "source": [
    "column_ones = np.ones(X2_train.shape[0])\n",
    "\n",
    "X4_cat_train = np.concatenate((column_ones[:, None], X1_train_cat), axis = 1)\n",
    "a4_cat = np.dot(np.dot(np.linalg.inv(np.dot(X4_cat_train.T, X4_cat_train)), X4_cat_train.T),y_main_train)\n",
    "\n",
    "column_ones = np.ones(X2_test.shape[0])\n",
    "\n",
    "X4_test = np.concatenate((column_ones[:, None], X1_test_cat), axis = 1)\n",
    "\n",
    "y4_pred_test = np.dot(X4_test, a4_cat)\n",
    "test_error_cat4 = CalculateError1(y4_pred_test, y_main_test)\n",
    "\n",
    "print(test_error_cat4)"
   ]
  },
  {
   "cell_type": "markdown",
   "metadata": {
    "id": "9O9CmAifpAJK"
   },
   "source": [
    "Подумайте, в чём потенциальные проблемы такого кодирования? (Подсказка: пусть изначально мы закодировали категорию A числом 1, а категорию B числом 2, а потом решили сделать наоборот: A <-> 2, B <-> 1. Подумайте, может ли измениться качество модели? А должно ли?)"
   ]
  },
  {
   "cell_type": "markdown",
   "metadata": {
    "id": "ZBkiDk5qqtSk"
   },
   "source": [
    "Ваше обоснование здесь: В случае такого кодирования мы показываем, что признак, который мы кодируем усиливается равномерно по единицу от каждого параметра. То есть это кодирование предает модели определенные арифметичесвкие свойтсва, которые могут быть никак не связаны с реальностью, но модель предсказания будет использовать эти свойства в подсчетах. Если мы меняем параметры местами, при этом не меняя модель, то погрешность этой модели резко возрастает, поскольку мы обучали ее на другой кодировки. Если же после изменения способа кодировки, мы опять научили модель с новой кодировкой, это потенциально может повлиять на модель как в лучшую, так и в худшую сторону, поскольку если между A и B действительно есть монотонная зависимость, то поменяв местами категории мы эту зависимость можем нарушить и модель испортится"
   ]
  },
  {
   "cell_type": "markdown",
   "metadata": {
    "id": "3NY2scS1rAuU"
   },
   "source": [
    "Теперь давайте попробуем исправить недочёты такого способа кодирования категориальных признаков, придумав другой метод. Пусть некоторый признак имеет 4 различные категории: {A, B, C, D}. Заменим этот признак на 4 бинарных признака. Каждый из новых признаков будет являться индикатором одной из этих четырёх категорий: если некоторый объект имел категорию A, то после нашего кодирования значение признака, соответствующего категории А у этого объекта будет равно $1$, а значения оставшихся трёх признаков будут $0$. Небольшая иллюстрация: пусть так выглядела выборка до кодирования\n",
    "\n",
    "| Объект | Признак |\n",
    "| :----------:|:-:|\n",
    "| X | \"B\" |\n",
    "| Y | \"D\" |\n",
    "\n",
    "А так будет выглядеть после кодирования:\n",
    "\n",
    "| Объект | Признак == \"A\" | Признак == \"B\" | Признак == \"C\" | Признак == \"D\" |\n",
    "| :----------:|:-:|:-:|:-:|:-:|\n",
    "| X | 0 | 1 | 0 | 0 |\n",
    "| Y | 0 | 0 | 0 | 1 |\n"
   ]
  },
  {
   "cell_type": "markdown",
   "metadata": {
    "id": "U_VHgVKjtpwr"
   },
   "source": [
    "**6. [0,3 баллов]** Реализуйте описанную выше процедуру кодирования для всех категориальных признаков в выборке. Вы можете сделать это самостоятельно, а можете разобраться в классе `OneHotEncoder` библиотеки `sklearn`. Обучите линейную модель на закодированных категориальных признаках и протестируйте. "
   ]
  },
  {
   "cell_type": "code",
   "execution_count": 303,
   "metadata": {
    "id": "2Rrs69UxtyvR"
   },
   "outputs": [],
   "source": [
    "from sklearn.preprocessing import OneHotEncoder\n",
    "enc_bin = OneHotEncoder(sparse=False)\n",
    "enc_bin.fit(X2_train[:,categorical_features])\n",
    "\n",
    "X2_train_cat = enc_bin.fit_transform(X2_train[:,categorical_features], y=None)\n",
    "X2_test_cat = enc_bin.fit_transform(X2_test[:,categorical_features], y=None)"
   ]
  },
  {
   "cell_type": "markdown",
   "metadata": {},
   "source": [
    "Обучим модель на таком типе кодировки"
   ]
  },
  {
   "cell_type": "code",
   "execution_count": 304,
   "metadata": {},
   "outputs": [
    {
     "name": "stdout",
     "output_type": "stream",
     "text": [
      "[[1.26288125e+10]]\n"
     ]
    }
   ],
   "source": [
    "column_ones = np.ones(X2_train.shape[0])\n",
    "\n",
    "X6_cat = np.concatenate((column_ones[:, None], X2_train_cat), axis = 1)\n",
    "\n",
    "a6_cat = np.dot(np.dot(np.linalg.inv(np.dot(X6_cat.T, X6_cat)), X6_cat.T),y_main_train)\n",
    "\n",
    "column_ones = np.ones(X2_test.shape[0])\n",
    "X6_test = np.concatenate((column_ones[:, None], X2_test_cat), axis = 1)\n",
    "y6_pred_test = np.dot(X6_test, a6_cat)\n",
    "error_with_first = CalculateError1(y6_pred_test, y_main_test)\n",
    "print(error_with_second)"
   ]
  },
  {
   "cell_type": "markdown",
   "metadata": {
    "id": "rSOmE1iLty7n"
   },
   "source": [
    "Подумайте, в чём потенциальные проблемы такого кодирования? Какие недочёты прошлого метода кодирования исправляет предложенный способ? Какие недочёты есть у этого метода кодирования, которых нет у предыдущего? Который из двух методов выдаёт лучшее качество?"
   ]
  },
  {
   "cell_type": "markdown",
   "metadata": {
    "id": "8grwr0ZBuIgq"
   },
   "source": [
    "Ваше обоснование здесь: Проблемы такого кодирования - если между категориями есть какая-то зависимость, то с таким способом кодирования мы эту зависимость утрачиваем. \n",
    "Этот способ кодирования позволяет избавиться от взаимных зависимостей между категориями.\n",
    "С таким методом кодирования в модели увеличивается количество параметров и возникает риск переобучения. \n",
    "В нашем случае ошибка меньше при первой кодировке, поскольку между изначальными признаками есть монотонная зависимость, а значит нам стоит в дальшейних вычислениях использовать первый способ кодировки, так как нашей целью является уменьшение среднеквадратичной ошибки\n"
   ]
  },
  {
   "cell_type": "markdown",
   "metadata": {
    "id": "IBEMSIfuzoGJ"
   },
   "source": [
    "**7. [0,5 баллов]** Обучите линейную модель на всех данных, выполнив все необходимые преобразования. Постарайтесь добиться меньшей ошибки модели, чем во всех предыдущих заданиях."
   ]
  },
  {
   "cell_type": "markdown",
   "metadata": {},
   "source": [
    "Первый способ кодировки"
   ]
  },
  {
   "cell_type": "code",
   "execution_count": 305,
   "metadata": {
    "id": "HiXPa1UcQYje"
   },
   "outputs": [
    {
     "name": "stdout",
     "output_type": "stream",
     "text": [
      "[[1.26288125e+10]]\n"
     ]
    }
   ],
   "source": [
    "X_train_num = X2_train[:, numeric_features].astype(float)\n",
    "\n",
    "column_ones = np.ones(X_train_num.shape[0])\n",
    "\n",
    "tmp = np.concatenate((column_ones[:, None], X_train_num), axis = 1)\n",
    "X_with_encoded_cat = np.concatenate((tmp,X1_train_cat), axis = 1)\n",
    "\n",
    "a7 = np.dot(np.dot(np.linalg.inv(np.dot(X_with_encoded_cat.T, X_with_encoded_cat)), X_with_encoded_cat.T),y_main_train)\n",
    "\n",
    "column_ones = np.ones(X1_test_cat.shape[0])\n",
    "tmp = np.concatenate((column_ones[:, None], X_test_num), axis = 1)\n",
    "X7_test = np.concatenate((tmp,X1_test_cat), axis = 1)\n",
    "y7_pred_test = np.dot(X7_test, a7)\n",
    "error_with_first = CalculateError1(y7_pred_test, y_main_test)\n",
    "print(error_with_second)"
   ]
  },
  {
   "cell_type": "markdown",
   "metadata": {},
   "source": [
    "Второй вариант кодировки:"
   ]
  },
  {
   "cell_type": "code",
   "execution_count": 306,
   "metadata": {},
   "outputs": [
    {
     "name": "stdout",
     "output_type": "stream",
     "text": [
      "[[1.26288125e+10]]\n"
     ]
    }
   ],
   "source": [
    "X_train_num = X2_train[:, numeric_features].astype(float)\n",
    "\n",
    "column_ones = np.ones(X_train_num.shape[0])\n",
    "\n",
    "tmp = np.concatenate((column_ones[:, None], X_train_num), axis = 1)\n",
    "X8 = np.concatenate((tmp,X6_cat), axis = 1)\n",
    "\n",
    "a8 = np.dot(np.dot(np.linalg.inv(np.dot(X8.T, X8)), X8.T),y2_train.astype(float))\n",
    "\n",
    "column_ones = np.ones(X1_test_cat.shape[0])\n",
    "\n",
    "tmp = np.concatenate((column_ones[:, None], X_test_num), axis = 1)\n",
    "\n",
    "X8_test = np.concatenate((tmp,X6_test), axis = 1)\n",
    "y8_pred_test = np.dot(X8_test, a8)\n",
    "error_with_second = CalculateError1(y8_pred_test, y2_test.astype(float))\n",
    "print(error_with_second)\n"
   ]
  },
  {
   "cell_type": "markdown",
   "metadata": {},
   "source": [
    "Как мы видим квадратичная ошибка меньше при использовании первого варианта кодировки категориальных признаков"
   ]
  },
  {
   "cell_type": "markdown",
   "metadata": {
    "id": "TOt1HIMMg0nu"
   },
   "source": [
    "### Feature engineering"
   ]
  },
  {
   "cell_type": "markdown",
   "metadata": {
    "id": "Ua8Hc_I2NdE8"
   },
   "source": [
    "#### Описание задания.\n",
    "\n",
    "В рамках этого задания вам предстоит улучшить модель и сделать предсказания на выборке из файла`diamonds_test.csv`, ответов к которой мы вам не дадим. Полученные предсказания вам нужно будет сдать в соревнование на сайте [kaggle.com](https://www.kaggle.com/c/hse-lab-linear-regression-21-22/overview). Подробнее о том, как сдавать предсказания, написано в конце раздела. Разумеется, чтобы иметь возможность сдать предсказания, вам нужно быть зарегистрированными на сайте. \n",
    "\n",
    "Оценка за задание рассчитывается исходя из ошибки полученных вами предсказаний и состоит из базовой части и бонусных баллов. Базовая часть оценки определяется следующими пороговыми значениями качества:\n",
    "\n",
    "*   MSE $\\leq 1950000$ ---- 0,25 балла\n",
    "*   MSE $\\leq 1370000$ ---- 0,5 балла\n",
    "*   MSE $\\leq 1280000$ ---- 0,75 балла\n",
    "*   MSE $\\leq 1170000$ ---- 1 балл\n",
    "\n",
    "Если ваша модель выдаёт качество сильно лучше, чем требуется в пороге на 1 балл, то вы можете претендовать на бонусные баллы, приняв участие в полноценном соревновании, смысл которого в том, чтобы получить качество как можно лучше (добиться наименьшей возможной ошибки). \n",
    "\n",
    "Если вы хотите поучаствовать, то просто продолжайте улучшать вашу модель и сдавать предсказания в соревнование. Бонусные баллы будут рассчитываться на основе ошибки полученных вами предсказаний и вашей позиции в лидерборде соревнования. Как именно будет рассчитываться оценка --- мы вам сообщим после завершения соревнования. Точно можем сказать, что наибольшее число баллов за задание получит только один студент --- тот, кто будет находиться на первой позиции в лидерборде на момент дедлайна. Человек на следующем месте уже получит немного меньше, следующий --- ещё меньше, и так далее. Каждый студент, качество предсказаний которого хоть немного лучше нашего порога на 1 балл, обязательно получит бонусные баллы.\n",
    "\n",
    "Чтобы подтвердить своё участие в соревновании, вам нужно будет сдать вашу модель вместе с лабораторной (лучше в отдельном файле, но можно её и прямо здесь написать).\n",
    "\n",
    "**Максимум бонусных баллов за задание: 3**"
   ]
  },
  {
   "cell_type": "markdown",
   "metadata": {
    "id": "esBQkVIY25zH"
   },
   "source": [
    "\n",
    "\n",
    "---\n",
    "\n"
   ]
  },
  {
   "cell_type": "markdown",
   "metadata": {
    "id": "ujFRVw0_focC"
   },
   "source": [
    "В оставшейся части данного раздела приводятся несколько заданий, за выполнение котороых вы не получите баллов. Эти задания даны специально, чтобы вы посмотрели, какие есть идеи для дальнейшего улучшения модели.  Разумеется, мы не требуем от вас, чтобы ваша финальная модель следовала указаниям из этих заданий --- вы можете вообще не выполнять ни одного задания отсюда, оцениваться будут только сданные вами предсказания.\n",
    "\n",
    "\n",
    "\n"
   ]
  },
  {
   "cell_type": "markdown",
   "metadata": {
    "id": "Qa714bBHg8_B"
   },
   "source": [
    "До сих пор мы только исследовали вопрос, как подготовить признаки из датасета, чтобы модель могла на их основе делать какие-то предсказания. При этом до сих пор мы никак не учитывали специфичность задачи: действительно, до этого момента нас интересовало только то, является ли признак числовым или категориальным, мы никак не учитывали физический смысл признаков. Однако часто датасеты предоставляют лишь самую общую информацию об объектах: признаки, которые легко измерить и запомнить. В таком случае при анализе данных нужно выдумывать собственные признаки, которые некоторым образом зависят от уже представленных в датасете признаков и **ни в коем случае не зависят от объясняемой переменной**.\n",
    "\n",
    "В общем случае процесс придумывания новых признаков довольно творческий. Есть, конечно, некоторые более-менее общие подходы, позволяющие улучшить качество модели путём добавления новых признаков, но часто аналитики придумывают признаки, основываясь не только на известных эвристиках, но и на собственном представлении о жизни.\n",
    "\n",
    "Давайте теперь поисследуем наши данные и подумаем, какие признаки можно добавить, чтобы улучшить модель."
   ]
  },
  {
   "cell_type": "markdown",
   "metadata": {
    "id": "bPhiy1IhiLow"
   },
   "source": [
    "**8.** Нарисуйте графики, отображающие зависимость цены алмаза от веса, длины, ширины и глубины (всего должно получиться 4 графика). Проинтерпретируйте наблюдаемую на них зависимость. Согласуется ли она с вашими представлениями о жизни?\n",
    "\n",
    "*Примечание: для изображения зависимости одной величины от другой лучше всего подходит график типа scatter.*"
   ]
  },
  {
   "cell_type": "code",
   "execution_count": 100,
   "metadata": {
    "id": "nQzcpqqNkGYq"
   },
   "outputs": [],
   "source": [
    "# ╰( ͡° ͜ʖ ͡° )つ──☆*:・ﾟ"
   ]
  },
  {
   "cell_type": "markdown",
   "metadata": {
    "id": "jd6J9SQlkGwZ"
   },
   "source": [
    "Подумайте, какую функцию можно применить к признакам, чтобы зависимость целевой переменной от них больше напоминала линейную?"
   ]
  },
  {
   "cell_type": "markdown",
   "metadata": {
    "id": "hU63JZex0h_P"
   },
   "source": [
    "Ваше обоснование здесь: ╰( ͡° ͜ʖ ͡° )つ──☆*:・ﾟ"
   ]
  },
  {
   "cell_type": "markdown",
   "metadata": {
    "id": "1L7iSqah0mYd"
   },
   "source": [
    "**9.** На одном рисунке изобразите график зависимости целевой переменной от признака depth и график зависимости целевой переменной от признака table. Чтобы картинка получилась читаемой, сделайте графики полупрозрачными (параметр `alpha`). Что вы можете сказать о получившемся рисунке? Правда ли, что модели будет достаточно оставить только один из этих признаков? Убедитесь в этом, нарисовав аналогичные графики зависимости признаков depth и table от других числовых признаков.\n",
    "\n",
    "*Примечание: почитайте про plt.subplots, чтобы узнать, как красиво рисовать несколько графиков.*"
   ]
  },
  {
   "cell_type": "code",
   "execution_count": null,
   "metadata": {
    "id": "UqTp9xWY28Av"
   },
   "outputs": [],
   "source": [
    "# ╰( ͡° ͜ʖ ͡° )つ──☆*:・ﾟ"
   ]
  },
  {
   "cell_type": "markdown",
   "metadata": {
    "id": "6kZjZ2Ww3YF0"
   },
   "source": [
    "Казалось бы, мы тут пытаемся придумать новые признаки, чтобы улучшить модель, зачем нам выбрасывать уже имеющиеся признаки? Дело в том, что если в выборке есть \"похожие\" в некотором смысле признаки, то модель, обученная на таких данных, может выдавать худший результат, чем если бы похожих признаков в выборке не было. Продемонстрируем это явление на практике."
   ]
  },
  {
   "cell_type": "markdown",
   "metadata": {
    "id": "5x3TzT7V4gDP"
   },
   "source": [
    "**10.** Обучите линейную модель, предсказывающую цену алмазов на признаках x, y, z из наших данных. Замерьте качество полученной линейной модели на тестовой выборке, после чего добавьте признак $\\tau = \\frac{x}{2} + 4y - z + 1$, и снова обучите линейную модель. Которая из моделей добилась лучшего качества?"
   ]
  },
  {
   "cell_type": "code",
   "execution_count": null,
   "metadata": {
    "id": "ktbNFzsz5gt9"
   },
   "outputs": [],
   "source": [
    "# ╰( ͡° ͜ʖ ͡° )つ──☆*:・ﾟ"
   ]
  },
  {
   "cell_type": "markdown",
   "metadata": {
    "id": "RbZ4u40h_MyO"
   },
   "source": [
    "Объясните, почему наличие похожих признаков в выборке заметно ухудшает качество, выдаваемое линейной моделью?"
   ]
  },
  {
   "cell_type": "markdown",
   "metadata": {
    "id": "gEINdpQy_XcA"
   },
   "source": [
    "Ваше обоснование здесь: ╰( ͡° ͜ʖ ͡° )つ──☆*:・ﾟ"
   ]
  },
  {
   "cell_type": "markdown",
   "metadata": {
    "id": "argZX3YMCb6e"
   },
   "source": [
    "Итак, мы обсудили, исходя из каких соображений можно выбирать преобразования над имеющимися признаками и когда для модели может быть полезнее выкинуть некоторый признак из выборки, чем оставить его. Теперь давайте придумаем совсем новый признак. Для этого снова посмотрим на такие характеристики алмазов, как длина, ширина и глубина. Эти характеристики несомненно важны для предсказания цены алмазов, и все построенные нами модели находили какую-то закономерность, но теперь давайте мы попробуем их объединить в новом признаке `объём`. Для начала будем считать, что объём алмаза неплохо приближается объёмом параллелепипеда с такими же измерениями."
   ]
  },
  {
   "cell_type": "markdown",
   "metadata": {
    "id": "DtlMCLwEDhhG"
   },
   "source": [
    "**11.** Обучите линейную модель на 4 признаках: x, y, z, и объём параллелепипеда со сторонами (x, y, z). Сравните качество полученной модели с качеством, выдаваемым моделью, обученной на признаках x, y, z."
   ]
  },
  {
   "cell_type": "code",
   "execution_count": null,
   "metadata": {
    "id": "5fgSn6IZELmT"
   },
   "outputs": [],
   "source": [
    "# ╰( ͡° ͜ʖ ͡° )つ──☆*:・ﾟ"
   ]
  },
  {
   "cell_type": "markdown",
   "metadata": {
    "id": "6XuJr72iGBSy"
   },
   "source": [
    "Понятно, что алмазы редко выглядят как идеальные параллелепипеды (хотя, конечно, многое зависит от огранки), и чаще встречаются алмазы, форма которых скорее напоминает эллипсоид. Снова обучите линейную модель на 4 признаках: x, y, z и объём эллипсоида с осями (x, y, z). Сравните полученную модель с предыдущей. Сильно ли отличается качество у этих моделей? Объясните, почему так получилось?"
   ]
  },
  {
   "cell_type": "code",
   "execution_count": null,
   "metadata": {
    "id": "5ZzmZmNhIKDo"
   },
   "outputs": [],
   "source": [
    "# ╰( ͡° ͜ʖ ͡° )つ──☆*:・ﾟ"
   ]
  },
  {
   "cell_type": "markdown",
   "metadata": {
    "id": "c7r5Je0uI6pj"
   },
   "source": [
    "Если вам стало интересно, можете попробовать обучить модель, аппроксимируя объём алмаза объёмом тетраэдра. Впрочем, если вы ответили на предыдущий вопрос, вы уже наверняка представляете, что получится. В любом случае мы не настаиваем =)\n",
    "\n",
    "Следующий трюк, который мы обсудим, --- это бинаризация признаков. Суть заключается в том, что мы берём некоторый признак из выборки и делаем из него несколько бинарных признаков (т.е. таких признаков, значения которых могут быть либо $0$, либо $1$). Частный случай бинаризации признаков мы уже разбирали, когда занимались кодированием категориальных признаков: тогда мы брали признак $P$, описывающий принадлежность объекта к одной из $N$ категорий ${A_1, \\ldots, A_N}$, и делали из него $N$ признаков вида $[P = A_1], [P = A_2], \\ldots [P = A_N]$.\n",
    "\n",
    "Однако это не единственный способ бинаризовать признаки. Допустим $P$ --- числовой признак, тогда мы, например, можем выбрать $k$ порогов ${t_1, \\ldots, t_k}$ и превратить признак $P$ в $k$ бинарных признаков $[P \\leq t_1], [t_1 < P \\leq t_2], \\ldots, [t_{k-1} < P \\leq t_k]$.\n",
    "\n",
    "Если же у нас есть два признака $P$ и $F$, мы можем применять булевы операции к их бинаризациям, например $[P < t_1 \\vee F > h_1], [t_2 < P \\leq t_3 \\wedge h_2 \\leq F \\leq h_3], [(P = t_4 \\vee F = h_4) \\wedge P \\leq t_5]$, и т.д.\n",
    "\n",
    "Давайте с помощью бинаризации выделим объекты, цена которых скорее всего будет высокой, и объекты, цена которых скорее всего будет низкой. Делать мы это будем на основе категориальных признаков (закодированных любым способом, однако если вы предпочитаете кодирование бинаризацией, т.е. второй способ, то при выполнении задания не забывайте, что признаки должны быть линейно независимы). Чтобы вы понимали, как именно категориальные признаки характеризуют алмазы, мы приложили вам картинку `categorical_descriptions`.\n",
    "\n",
    "![](https://lh3.google.com/u/0/d/1xzqbnwyOazKNiiJxNo_AUh7iUsTONC-0=w1920-h1090-iv1)"
   ]
  },
  {
   "cell_type": "markdown",
   "metadata": {
    "id": "ADOr1ZH6Y1OQ"
   },
   "source": [
    "**12.** Обучите линейную модель, предсказывающую цену алмазов на категориальных признаках из наших данных. Замерьте качество полученной линейной модели на тестовой выборке, после чего добавьте признаки, которые явно выделят алмазы, цена на которые скорее всего будет высокой, и алмазы, цена которых скорее всего будет низкой, и снова обучите линейную модель. Вы можете также добавить и свои признаки и использовать не только категориальные признаки (например, если вам захочется добавить признак \"у алмаза лучшая чистота И алмаз совершенно бесцветный И объём алмаза не меньше $t$\"). Удалось ли добиться прироста в качестве?"
   ]
  },
  {
   "cell_type": "code",
   "execution_count": null,
   "metadata": {
    "id": "7sxhbqDPZyfH"
   },
   "outputs": [],
   "source": [
    "# ╰( ͡° ͜ʖ ͡° )つ──☆*:・ﾟ"
   ]
  },
  {
   "cell_type": "markdown",
   "metadata": {
    "id": "AbIbDwNci6Mf"
   },
   "source": [
    "#### Как сдавать предсказания?\n",
    "\n",
    "Передайте в написанную нами функцию `make_submission` ваши предсказания. Когда функция отработает, у вас в рабочей директории появится файл `submission.csv`, который вам и нужно сдать в соревнование."
   ]
  },
  {
   "cell_type": "code",
   "execution_count": null,
   "metadata": {
    "id": "m4gv1RKjjtxA"
   },
   "outputs": [],
   "source": [
    "def make_submission(y_pred):\n",
    "  file = np.arange(1, len(y_pred) + 1)\n",
    "  file = file.reshape(-1, 1)\n",
    "  file = np.concatenate([file, y_pred.reshape(-1, 1).astype(float)], axis=1)\n",
    "  with open(\"submission.csv\", \"w\") as f:\n",
    "    f.write(\"id,price\\n\")\n",
    "    np.savetxt(f, file, delimiter=\",\", fmt=\"%d,%10.5f\")\n",
    "\n",
    "# пример вызова функции:\n",
    "make_submission(np.zeros(16182))"
   ]
  },
  {
   "cell_type": "markdown",
   "metadata": {
    "id": "4aHgP-6qfl0D"
   },
   "source": [
    "### Задание 3. Регуляризация (3.9 баллов)\n",
    "\n"
   ]
  },
  {
   "cell_type": "markdown",
   "metadata": {
    "id": "6RcCzJLjm8a6"
   },
   "source": [
    "Конечно, никто не гарантирует, что объясняемая переменная зависит от остальных характеристик именно линейно, поэтому мы можем неслабо улучшить модель, добавляя в неё нелинейные признаки на основе уже имеющихся. Один из наиболее распространённых подходов заключается в добавлении в выборку полиномиальных признаков некоторой фиксированной степени на основе уже имеющихся. Т.е., скажем, у нас есть признаки {P, F, G} и наша задача состоит в том, чтобы добавить в выборку полиномиальные признаки степени $2$ на основе имеющихся. Тогда мы добавим в выборку признаки\n",
    "\n",
    "$$\n",
    "P^2, F^2, G^2, PF, PG, FG.\n",
    "$$\n",
    "\n",
    "Аналогично для большего числа признаков и больших степеней.\n",
    "\n",
    "**1. [0,4 баллов]** Реализуйте функцию `add_polynomial_features`, принимающую массив признаков, и степень, и возвращающую полиномиальные признаки заданной степени."
   ]
  },
  {
   "cell_type": "code",
   "execution_count": 54,
   "metadata": {
    "id": "_lnytPeGnEFP"
   },
   "outputs": [],
   "source": [
    "from sklearn.preprocessing import PolynomialFeatures\n",
    "\n",
    "def add_polynomial_features(features, degree):\n",
    "    poly = PolynomialFeatures(degree, include_bias = False)\n",
    "    X = poly.fit_transform(features.T)\n",
    "    tmp, res = np.split(X, [features.shape[0]], axis = 1)\n",
    "    return res.T\n",
    "\n",
    "poly_features = add_polynomial_features(data[:, [6, 7, 8]].astype(np.float64).T, 2)\n",
    "assert poly_features.shape[0] == 6 "
   ]
  },
  {
   "cell_type": "markdown",
   "metadata": {
    "id": "TqwGy6HEnX6W"
   },
   "source": [
    "Обучите линейную модель, добавив в выборку полиномиальные признаки степени $2$ от признаков carat и table. Сравните качество полученной модели с качеством модели из пункта 7 предыдущего задания."
   ]
  },
  {
   "cell_type": "code",
   "execution_count": 307,
   "metadata": {
    "id": "MPI707WOn1op"
   },
   "outputs": [
    {
     "name": "stdout",
     "output_type": "stream",
     "text": [
      "[[1665087.70858805]]\n"
     ]
    }
   ],
   "source": [
    "X_train_num = X2_train[:, numeric_features].astype(float)\n",
    "\n",
    "column_ones = np.ones(X_train_num.shape[0])\n",
    "\n",
    "tmp = np.concatenate((column_ones[:, None], X_train_num), axis = 1)\n",
    "tmp2 = np.concatenate((tmp, X1_train_cat), axis = 1)\n",
    "\n",
    "reg = add_polynomial_features(X2_train[:, [0, 5]].astype(np.float64).T, 2)\n",
    "\n",
    "\n",
    "X9_train = np.concatenate((tmp2, reg.T), axis = 1)\n",
    "\n",
    "a9 = np.dot(np.dot(np.linalg.inv(np.dot(X9_train.T, X9_train)), X9_train.T),y_main_train)\n",
    "\n",
    "column_ones = np.ones(X1_test_cat.shape[0])\n",
    "\n",
    "tmp_test = np.concatenate((column_ones[:, None], X_test_num), axis = 1)\n",
    "\n",
    "tmp2_test = np.concatenate((tmp_test,X1_test_cat), axis = 1)\n",
    "\n",
    "reg_test = add_polynomial_features(X2_test[:, [0, 5]].astype(np.float64).T, 2)\n",
    "\n",
    "X9_test = np.concatenate((tmp2_test,reg_test.T), axis = 1)\n",
    "y9_pred_test = np.dot(X9_test, a9)\n",
    "\n",
    "test_error_reg2 = CalculateError1(y9_pred_test, y_main_test)\n",
    "\n",
    "print(test_error_reg2)"
   ]
  },
  {
   "cell_type": "markdown",
   "metadata": {},
   "source": [
    "Качество этой модели лучше чем качество модели из пункта 7"
   ]
  },
  {
   "cell_type": "markdown",
   "metadata": {
    "id": "_ihqwU4rvAKw"
   },
   "source": [
    "Итак, мы узнали, что в выборку можно добавлять полиномиальные признаки от уже имеющихся числовых признаков и, как правило, это приводит к существенному приросту качества. Возникает естественный вопрос: почему бы не свести задачу построения линейной модели к подбору степени полиномиальных признаков? Ведь наверняка можно найти такую степень, при которой модель будет выдавать наилучшее возможное качество? Давайте исследуем этот вопрос."
   ]
  },
  {
   "cell_type": "markdown",
   "metadata": {
    "id": "Ug11Yg52v5WU"
   },
   "source": [
    "**2. [0,3 баллов]** В этом задании вам нужно обучить 6 линейных моделей на полиномиальных признаках степеней от 1 до 6 от уже имеющихся признаков (carat, x, y, z). Нарисуйте график зависимости качества модели на обучающей и тестовой выборке от степени полиномиальных признаков в логарифмической шкале. Прокомментируйте полученный график: ожидали ли вы такого эффекта? "
   ]
  },
  {
   "cell_type": "code",
   "execution_count": 308,
   "metadata": {},
   "outputs": [],
   "source": [
    "def TrainingModels(deg): \n",
    "    \n",
    "    reg_train = add_polynomial_features(X2_train[:, [0, 6, 7, 8]].astype(np.float64).T, deg)\n",
    "    \n",
    "    X_regr = np.concatenate((X_with_encoded_cat,reg.T), axis = 1)\n",
    "    \n",
    "    a_regr = np.dot(np.dot(np.linalg.inv(np.dot(X_regr.T, X_regr)), X_regr.T),y_main_train)\n",
    "    y_regr =  np.dot(X_regr, a_regr)\n",
    "    error_regr_train = CalculateError1(y_regr, y_main_train.astype(float))\n",
    "    \n",
    "    \n",
    "    reg_test = add_polynomial_features(X2_test[:, [0, 6, 7, 8]].astype(np.float64).T, deg)\n",
    "    X_regr_test = np.concatenate((X7_test,reg_test.T), axis = 1)\n",
    "    y_regr_test = np.dot(X_regr_test, np.dot(np.dot(np.linalg.inv(np.dot(X_regr_test.T,X_regr_test)),X_regr_test.T), y_main_test))\n",
    "\n",
    "    error_regr_test = CalculateError1(y_regr_test, y_main_test)\n",
    "    return error_regr_train, error_regr_test\n"
   ]
  },
  {
   "cell_type": "code",
   "execution_count": 309,
   "metadata": {
    "id": "JGvdh2Wmwwh_"
   },
   "outputs": [
    {
     "name": "stdout",
     "output_type": "stream",
     "text": [
      "ошибка на обучающих: [1826961.68616627 1826961.68616627 1826961.68616627 1826961.68616627\n",
      " 1826961.68616627 1826961.68616627]\n",
      "ошибка на тестовых: [1.68164265e+06 1.48955407e+06 1.45161077e+06 3.73112657e+06\n",
      " 3.61289071e+08 3.88101928e+10]\n"
     ]
    }
   ],
   "source": [
    "vect_training_models = np.vectorize(TrainingModels)\n",
    "degrees = np.arange(1, 7)\n",
    "\n",
    "errors = vect_training_models(degrees)\n",
    "print(\"ошибка на обучающих:\", errors[0])\n",
    "print(\"ошибка на тестовых:\", errors[1])\n",
    "# print(errors)"
   ]
  },
  {
   "cell_type": "code",
   "execution_count": 310,
   "metadata": {},
   "outputs": [
    {
     "data": {
      "image/png": "[encoded data removed]",
      "text/plain": [
       "<Figure size 504x504 with 1 Axes>"
      ]
     },
     "metadata": {
      "needs_background": "light"
     },
     "output_type": "display_data"
    }
   ],
   "source": [
    "plt.figure(figsize=(7, 7))\n",
    "x_tr = [errors[0][0], errors[0][1], errors[0][2], errors[0][3], errors[0][4], errors[0][5]]\n",
    "\n",
    "y_tr = [1, 2, 3, 4, 5, 6]\n",
    "plt.xscale('log')\n",
    "plt.scatter(x_tr, y_tr, label = \"ошибка для обучающих данных\")\n",
    "\n",
    "x_test = [errors[1][0], errors[1][1], errors[1][2], errors[1][3], errors[1][4], errors[1][5]]\n",
    "plt.scatter(x_test, y_tr, label = \"ошибка для тестовых данных\")\n",
    "\n",
    "\n",
    "plt.xlabel('MSE', loc = 'right')\n",
    "plt.ylabel('degree', loc = 'top')\n",
    "plt.title(\"завиcимость качества модели от степени полиномиальных признаков\")\n",
    "plt.legend()\n",
    "plt.show()"
   ]
  },
  {
   "cell_type": "markdown",
   "metadata": {},
   "source": [
    "Как мы можем наблюдать, сначала тестовые данные приближаются хорошо, потому что ошибка выдаваемая на них и на обучающих данных почти совпадает, но затем приближение тестовых данных значительно ухудшается. Мы наблюдаем эффект переобучения, когда мы рассматриваем добавляем полимиальные признаки больших степеней"
   ]
  },
  {
   "cell_type": "markdown",
   "metadata": {
    "id": "PKtmVN-Dww4h"
   },
   "source": [
    "Наблюдаемый вами эффект называется переобучением: ситуация, когда модель становится слишком зависимой от обучающей выборки. Действительно, в процессе обучения модели мы стараемся минимизировать ошибку именно на обучающей выборке, и совершенно неочевидно, почему обученная модель будет обобщаться на объекты, которых она раньше не видела.\n",
    "\n",
    "Когда мы начали добавлять в выборку полиномиальные признаки большой степени, модель стала настолько сложной, что обрела способность запомнить обучающую выборку вместо того, чтобы извлекать из неё какие-то закономерности. Как следствие, когда мы подали модели на вход выборку, отличную от обучающей, мы получили колоссальную ошибку.\n",
    "\n",
    "Ситуация, когда качество модели на обучающей выборке гораздо ниже качества на тестовой выборке, является самым явным симптомом переобучения, но не единственным. Часто в ситуации переобучения можно наблюдать необычайно большие по модулю коэффициенты модели.\n",
    "\n",
    "Есть много способов борьбы с этим злом. Один из них --- регуляризация. Сейчас мы рассмотрим одну из её разновидностей --- **L2-регуляризацию**. Идея в том, чтобы подправить матрицу $X^TX$, сделав её \"получше\". Например, это можно сделать, заменив её на $(X^TX + \\lambda E)$, где $\\lambda > 0$ --- некоторый скаляр. Пожертвовав точностью на обучающей выборке, мы тем не менее получаем численно более стабильное псевдорешение $a = (X^TX + \\lambda E)^{-1}X^Ty$ и снижаем эффект переобучения. *Гиперпараметр* $\\lambda$ нужно подбирать, и каких-то универсальных способов это делать нет, но зачастую можно его подобрать таким, чтобы ошибка на тестовой выборке падала.\n",
    "\n",
    "Однако есть некоторые правила, которых стоит придерживаться при подборе коэффициента регуляризации. Обычно в такой ситуации всю выборку делят на три части: обучающую, *валидационную* и тестовую. Сначала по валидационной подбирают значение гиперпараметра, потом по обучающей строят модель, а по тестовой оценивают её итоговое качество. Кроме того, подбирать $\\lambda$ нужно по логарифметической сетке, чтобы узнать оптимальный порядок величины."
   ]
  },
  {
   "cell_type": "markdown",
   "metadata": {
    "id": "KRr312xvz-Cx"
   },
   "source": [
    "**3. [0,1 балла]** Подумайте, почему не стоит подбирать коэффициент регуляризации по обучающей выборке? По тестовой выборке?"
   ]
  },
  {
   "cell_type": "markdown",
   "metadata": {
    "id": "PjYAT3i-0GGX"
   },
   "source": [
    "Ваше обоснование здесь: Очевидно, что, если мы подбараем коэффициент по обучающей выборке, то лучше всего будет просто занулить этот коэффициент, так как это слагаемое только увеличивает ответ. Но в общем случае, зануление этого коэффициента приведет к неправильному результату\n",
    "\n",
    "В случае с тестовой выборкой в теории мы можем поменять местами валидационную и тестовую выборку, просто тестовая проверяет уже всю модель в конечном счете (и не прибавляет к ошибке штраф от регуляризации), а валидационная в таком случае позволяет обучить модель и настроить коэффициенты."
   ]
  },
  {
   "cell_type": "markdown",
   "metadata": {
    "id": "nQlJbhvH0SBD"
   },
   "source": [
    "**4. [0,3 балла]** Рассмотрим линейную модель с полиномиальными признаками степени $4$ от признаков (carat, x, y, z). Качество такой модели на обучающей выборке уже заметно лучше, чем качество на тестовой. Попробуем исправить эту ситуацию, применив $L2$-регуляризацию. Поделите вашу обучающую выборку на две части в соотношении $8:2$. Большую часть вы вновь объявите обучающей выборкой, а меньшую --- валидационной. Подберите гиперпараметр $\\lambda$ по логарифмической сетке таким образом, чтобы линейная модель с \"подправленной\" матрицей Грама $X^TX$ выдавала лучшее качество на валидационной выборке. Обучите линейную модель с подобранным параметром $\\lambda$ на обучающей выборке и протестируйте её на тестовых данных. Сделайте вывод: помогла ли нам регуляризация?\n",
    "\n",
    "*Примечание: np.logspace вам в помощь.*"
   ]
  },
  {
   "cell_type": "code",
   "execution_count": 311,
   "metadata": {
    "id": "g5rBhgI93MXd"
   },
   "outputs": [],
   "source": [
    "from sklearn.model_selection import train_test_split\n",
    "\n",
    "\n",
    "train1, val = train_test_split(np.concatenate((X_with_encoded_cat, y_main_train), axis = 1), test_size=0.2, random_state=42)\n",
    "X_val_train = train1[:, :10]\n",
    "y_val_train = train1[:, 10:]\n",
    "X_val = val[:, :10]\n",
    "y_val = val[:, 10:]\n"
   ]
  },
  {
   "cell_type": "code",
   "execution_count": 312,
   "metadata": {},
   "outputs": [],
   "source": [
    "def MinimizingError(l): \n",
    "    A = np.dot(X_main_val_train.T, X_main_val_train)\n",
    "    B = l * np.eye(A.shape[0])\n",
    "    a_main_train = np.dot(np.dot(np.linalg.inv(np.dot(X_main_val_train.T, X_main_val_train) + B), X_main_val_train.T),y_val_train)        \n",
    "    y_pred_val =  np.dot(X_main_val, a_main_train)\n",
    "    error = CalculateError1(y_pred_val, y_val.astype(float))\n",
    "    return error"
   ]
  },
  {
   "cell_type": "code",
   "execution_count": 313,
   "metadata": {},
   "outputs": [
    {
     "name": "stdout",
     "output_type": "stream",
     "text": [
      "1489160.3326516713\n",
      "1.3369837418249464\n"
     ]
    }
   ],
   "source": [
    "reg = add_polynomial_features(X_val_train[:, [1, 4, 5, 6]].astype(np.float64).T, 4)\n",
    "X_main_val_train = np.concatenate((X_val_train,reg.T), axis = 1)\n",
    "\n",
    "reg_val = add_polynomial_features(X_val[:, [1, 4, 5, 6]].astype(np.float64).T, 4)\n",
    "X_main_val = np.concatenate((X_val, reg_val.T), axis = 1)\n",
    "\n",
    "func = np.vectorize(MinimizingError)\n",
    "steps = np.logspace(0, 1, 1000)\n",
    "array = func(steps)\n",
    "min_error = np.argmin(array)\n",
    "print(array[min_error])\n",
    "lamb = steps[min_error]\n",
    "print(lamb)"
   ]
  },
  {
   "cell_type": "code",
   "execution_count": 314,
   "metadata": {},
   "outputs": [
    {
     "name": "stdout",
     "output_type": "stream",
     "text": [
      "[[2634179.89350723]]\n"
     ]
    }
   ],
   "source": [
    "reg_train = add_polynomial_features(X_with_encoded_cat[:, [1, 4, 5, 6]].astype(np.float64).T, 4)\n",
    "X_main_train = np.concatenate((X_with_encoded_cat, reg_train.T), axis = 1)\n",
    "B_train = lamb * np.eye(np.dot(X_main_train.T, X_main_train).shape[0])\n",
    "y2_train = y2_train.astype(float)\n",
    "a_main_train = np.dot(np.dot(np.linalg.inv(np.dot(X_main_train.T, X_main_train) + B_train), X_main_train.T),y2_train.astype(float))\n",
    "reg_test = add_polynomial_features(X7_test[:, [1, 4, 5, 6]].astype(np.float64).T, 4)\n",
    "X_main_test = np.concatenate((X7_test, reg_test.T), axis = 1)\n",
    "y_pred_test_lm = np.dot(X_main_test, a_main_train)\n",
    "error_test = CalculateError1(y_pred_test_lm, y_main_test)\n",
    "print(error_test)"
   ]
  },
  {
   "cell_type": "markdown",
   "metadata": {},
   "source": [
    "Как мы видим, результаты тестовых данных значительно улучшились по сравнению с результатами из второго задания для полиномов четвертой степени"
   ]
  },
  {
   "cell_type": "markdown",
   "metadata": {
    "id": "wFeo516Z4ckd"
   },
   "source": [
    "**5. [0,5 балла]** Повторите первое задание, но вместо 6 обычных линейных моделей обучите 6 регуляризованных линейных моделей. Для каждой модели вам нужно будет подобрать свой гиперпараметр $\\lambda$. Сравните полученный график с графиком из первого задания: для всякой ли степени мы смогли улучшить ситуацию? Как выдумаете, почему?"
   ]
  },
  {
   "cell_type": "code",
   "execution_count": 315,
   "metadata": {
    "id": "fKPFiHrN4-xO"
   },
   "outputs": [],
   "source": [
    "def ImprovingModels(deg):\n",
    "    \n",
    "    reg = add_polynomial_features(X_val_train[:, [1, 4, 5, 6]].astype(np.float64).T, deg)\n",
    "    X_main_train1 = np.concatenate((X_val_train,reg.T), axis = 1)\n",
    "\n",
    "    reg_val = add_polynomial_features(X_val[:, [1, 4, 5, 6]].astype(np.float64).T, deg)\n",
    "    X_main_val1 = np.concatenate((X_val, reg_val.T), axis = 1)\n",
    "\n",
    "\n",
    "    def MinimizingError(l): \n",
    "        A = np.dot(X_main_train1.T, X_main_train1)\n",
    "        B = l * np.eye(A.shape[0])\n",
    "        a_main_train = np.dot(np.dot(np.linalg.inv(np.dot(X_main_train1.T, X_main_train1) + B), X_main_train1.T), y_val_train)\n",
    "        y_pred_val =  np.dot(X_main_val1, a_main_train)\n",
    "        error = CalculateError1(y_pred_val, y_val.astype(float))\n",
    "        return error\n",
    "\n",
    "    func = np.vectorize(MinimizingError)\n",
    "    steps = np.logspace(-0.9, 1, 100)\n",
    "    array = func(steps)\n",
    "    min_error = np.argmin(array)\n",
    "    lamb = steps[min_error]\n",
    "    Diag_lambda = lamb * np.eye(X_main_train1.shape[1])\n",
    "    B_opt = np.dot(np.dot(np.linalg.inv(np.dot(X_main_train1.T, X_main_train1) + Diag_lambda), X_main_train1.T),y_val_train)\n",
    "    return B_opt"
   ]
  },
  {
   "cell_type": "code",
   "execution_count": 317,
   "metadata": {},
   "outputs": [
    {
     "name": "stdout",
     "output_type": "stream",
     "text": [
      "deg = 1  error_for_train = 1861651.9000676442\n",
      "deg = 2  error_for_train = 1643907.8440608417\n",
      "deg = 3  error_for_train = 1568426.9418216858\n",
      "deg = 4  error_for_train = 1527084.5109235302\n",
      "deg = 5  error_for_train = 1675361.1751147662\n",
      "deg = 6  error_for_train = 666183059.2309463\n"
     ]
    }
   ],
   "source": [
    "errors_train = list()\n",
    "for deg in range(1, 7):\n",
    "    \n",
    "    matrix = ImprovingModels(deg)\n",
    "    reg_train = add_polynomial_features(X_with_encoded_cat[:, [1, 4, 5, 6]].astype(np.float64).T, deg)\n",
    "    X_main_train = np.concatenate((X_with_encoded_cat, reg_train.T), axis = 1)\n",
    "    \n",
    "    \n",
    "    y_pred_train_lambda = np.dot(X_main_train, matrix)\n",
    "    \n",
    "    error_train = CalculateError1(y_pred_train_lambda, y_main_train)\n",
    "    errors_train.append(error_train[0][0])\n",
    "    print(\"deg =\", deg, \" error_for_train =\", error_train[0][0])"
   ]
  },
  {
   "cell_type": "code",
   "execution_count": 318,
   "metadata": {},
   "outputs": [
    {
     "name": "stdout",
     "output_type": "stream",
     "text": [
      "deg = 1  error_for_test = 1700494.308759158\n",
      "deg = 2  error_for_test = 1539855.9050521632\n",
      "deg = 3  error_for_test = 3766120.4515890875\n",
      "deg = 4  error_for_test = 2856323.5514239846\n",
      "deg = 5  error_for_test = 11712384.358108502\n",
      "deg = 6  error_for_test = 804597149.7166138\n"
     ]
    }
   ],
   "source": [
    "errors_test = list()\n",
    "for deg in range(1, 7):\n",
    "    matrix = ImprovingModels(deg)\n",
    "    reg_test = add_polynomial_features(X7_test[:, [1, 4, 5, 6]].astype(np.float64).T, deg)\n",
    "    X_main_test = np.concatenate((X7_test, reg_test.T), axis = 1)\n",
    "    \n",
    "    y_pred_test_lambda = np.dot(X_main_test, matrix)\n",
    "    \n",
    "    error_test = CalculateError1(y_pred_test_lambda, y_main_test)\n",
    "    errors_test.append(error_test)\n",
    "    print(\"deg =\", deg, \" error_for_test =\", error_test[0][0])"
   ]
  },
  {
   "cell_type": "code",
   "execution_count": 319,
   "metadata": {},
   "outputs": [
    {
     "data": {
      "image/png": "[encoded data removed]",
      "text/plain": [
       "<Figure size 504x504 with 1 Axes>"
      ]
     },
     "metadata": {
      "needs_background": "light"
     },
     "output_type": "display_data"
    }
   ],
   "source": [
    "plt.figure(figsize=(7, 7))\n",
    "x_tr = [errors_train[0], errors_train[1], errors_train[2], errors_train[3], errors_train[4], errors_train[5]]\n",
    "\n",
    "y_tr = [1, 2, 3, 4, 5, 6]\n",
    "plt.xscale('log')\n",
    "plt.scatter(x_tr, y_tr, label = \"ошибка для обучающих данных\")\n",
    "\n",
    "x_test = [errors_test[0], errors_test[1], errors_test[2], errors_test[3], errors_test[4], errors_test[5]]\n",
    "plt.scatter(x_test, y_tr, label = \"ошибка для тестовых данных\")\n",
    "\n",
    "plt.title(\"завиcимость качества модели от степени полиномиальных признаков\")\n",
    "plt.xlabel('MSE', loc = 'right')\n",
    "plt.ylabel('degree', loc = 'top')\n",
    "plt.legend()\n",
    "plt.show()"
   ]
  },
  {
   "cell_type": "markdown",
   "metadata": {},
   "source": [
    "Как мы можем видеть, не для всякой степени регуляризация улучшила ситуацию. Это связано с тем, что, если мы добавляли не много параметров в модель, а штраф был большим, то мы теряли точность значения ошибки. Поэтому точки, полученные из больших степеней полиномиальных признаков лучше приблизились, чем точки с маленькими степенями полиномиальных признаков "
   ]
  },
  {
   "cell_type": "markdown",
   "metadata": {
    "id": "IwzU99F75DPx"
   },
   "source": [
    "**6. [1,15 балла]** Пусть заданы $X\\in \\text{Mat}_{n \\times k}(\\mathbb{R})$, $\\lambda \\geqslant 0$, а также известно, что $\\text{rk}~X = k \\leqslant n$. Решите следующую задачу оптимизации:\n",
    "$$|Xa - y|^2 + \\lambda|a|^2\\rightarrow\\min\\limits_{a \\in \\mathbb{R}^k}.$$\n",
    "\n",
    "Заметим, что первое слагаемое --- это значение mean-square error (с точностью до домножения на некоторую константу) модели с коэффициентами $a = (a_1, \\ldots, a_k)$. Типичной задачей линейной регрессии является минимизация первого слагаемого по всем векторам $a$. Однако в данном случае кроме минимизации среднеквадратичной ошибки мы также добавляем условие, что при этом и веса модели должны быть как можно меньше. Действительно, мы уже убедились, что чем сложнее модель, тем меньше будет ошибка на обучающей выборке (а именно это ошибку мы и минимизируем в процессе обучения) и тем вероятнее модель будет иметь большие по модулю коэффициенты, а значит, и большое значение $|a|$. Добавляя второе слагаемое в рассматриваемый выше функционал, мы как бы задаём ограничение на абсолютную величину коэффициентов модели. При этом параметр $\\lambda$ явно будет указывать, насколько сильно мы будем штрафовать модель за большие коэффициенты. Заметим, что если $\\lambda = 0$, то мы получаем классическую задачу линейной регресии без регуляризации."
   ]
  },
  {
   "cell_type": "markdown",
   "metadata": {
    "id": "m0l8CtbO7uxo"
   },
   "source": [
    "Ваше решение здесь: Чтобы добиться того, что разность будет минимальна, необходимо взять производные от этого вектора и найти, где находится точка минимума по этой производной"
   ]
  },
  {
   "cell_type": "markdown",
   "metadata": {
    "id": "GVmoHb9PAn75"
   },
   "source": [
    "**7. [0,25 балла]** При построении линейной модели у вас, как правило, есть также и свободный член, не зависящий от признаков из выборки. Подумайте, почему регуляризовать свободный член — плохая идея?"
   ]
  },
  {
   "cell_type": "markdown",
   "metadata": {
    "id": "Pz7uZUdjAn76"
   },
   "source": [
    "Ваше обоснование здесь: Потому что нет ничего плохого в том, чтобы подобрать корректный свободный коэффициент, который всегда одинаков. Если мы введем на этот коэффициент штраф, то его подбор лишь ухудшится.\n",
    "\n",
    "Если диапазон цен лежит среди больших чисел, то наша модель не сможет выдавать правильные предсказания, поскольку штраф за свободный коэффициент будет слишком большим. Поэтому наша модель будет сконцентрирована у маленьких значений\n",
    "\n",
    "Если же наши данные сосредоточены у нуля, то проблем не будет, но чаще всего такие ситуации очень редки в работе с реальными данными\n",
    "\n",
    " Регуляризация необходима для борьбы с переобучением, но свободный член никак не влияет на эту проблему, поэтому его нет необходимости регуляризировать"
   ]
  },
  {
   "cell_type": "markdown",
   "metadata": {
    "id": "Gdffe8TCAn76"
   },
   "source": [
    "**8. [0,5 балла]** Пусть теперь $\\text{rk}~X < k$. Всегда ли в этом случае существует решение? Если существует, то является ли оно единственным? Ответ обоснуйте."
   ]
  },
  {
   "cell_type": "markdown",
   "metadata": {
    "id": "P1h46LL8An76"
   },
   "source": [
    "Ваше обоснование здесь: Этот вопорс можно переформулировать, как всегда ли можно найти для данной СЛУ решение. Если количество уравнений, то есть rkX меньше количества неизвестных k, то, если решение существует, то их бесконечно много, но может быть и такая ситуация, что решений вообще не будет, потому что какие-то данные могут противоречить друг другу. "
   ]
  },
  {
   "cell_type": "markdown",
   "metadata": {
    "id": "m7gvthEgAn77"
   },
   "source": [
    "**9. [0,4 балла]** Покажите, что если решений бесконечно много, то среди них обязательно найдутся решения со сколь угодно большими по модулю компонентами вектора $a$."
   ]
  },
  {
   "cell_type": "markdown",
   "metadata": {
    "id": "gVPOHJuZAn77"
   },
   "source": [
    "Ваше обоснование здесь: Если решений бесконечно много, то это стоит понимать как СЛУ в котором есть свободные члены. Это значит, что мы можем появляются большие выразить главные переменные через свободные и задать значения свободных переменных бесконечно большими. Поэтому найдутся решения со сколь угодно большими по модулю компонентами вектора a\n",
    "\n",
    "Но чаще всего, если в модели появляются большие веса, это значит, что модель переобучилась и будет плохо приближать тестовые данные. Так как большие веса появляются, когда мы пытаемся подогнать модель под все данные из конкретной выборки "
   ]
  },
  {
   "cell_type": "markdown",
   "metadata": {
    "id": "l6hnfV4vAn7-"
   },
   "source": [
    "### Добавление. QR-разложение"
   ]
  },
  {
   "cell_type": "markdown",
   "metadata": {
    "id": "Al3Mv6w8An7-"
   },
   "source": [
    "**QR-разложением** матрицы $A$ (не обязательно квадратной) мы будем называть её представление в виде $A = QR$, где $Q$ — матрица с ортонормированными столбцами, а $R$ - верхнетреугольная матрица.\n",
    "\n",
    "Смысл QR-разложения следующий. Пусть $a_1,\\ldots,a_m$ — столбцы матрицы $A$, $q_1,\\ldots,q_t$ — столбцы матрицы $Q$. Тогда $q_1,\\ldots,q_t$ — это ортонормированный базис в подпространстве, являющемся линейной оболочкой векторов $a_1,\\ldots,a_m$, а в матрице $R$ записаны коэффициенты, с помощью которых $a_i$ выражаются через $q_1,\\ldots,q_t$.\n",
    "\n",
    "Находить QR-разложение заданной матрицы можно разными способами. Мы познакомим Вас не с самым лучшим из них, но по крайней мере с наиболее простым концептуально. Заметим, что ортогональный базис линейной оболочки можно найти с помощью ортогонализации Грама-Шмидта. При этом коэффициенты из матрицы $R$ получаются в качестве побочного продукта этого процесса:\n",
    "\n",
    "```python\n",
    "for j = 1...n:\n",
    "    q_j = a_j\n",
    "    for i = 1,...,j-1:\n",
    "        r_ij = (q_i, a_j)\n",
    "        q_j = q_j - r_ij * q_i\n",
    "    r_jj = |q_j|\n",
    "    if r_jj == 0: # a_j in <a_1,...,a_j-1>\n",
    "        # What would you do in this case?..\n",
    "    q_j = q_j / r_jj\n",
    "```\n",
    "\n",
    "Для нахождения QR-разложения Вы можете использовать библиотечную функцию `scipy.linalg.qr`."
   ]
  },
  {
   "cell_type": "markdown",
   "metadata": {
    "id": "UB3uxms8An7_"
   },
   "source": [
    "Поскольку лабораторная про линейную регрессию, не так-то просто замять вопрос о том, какое же отношение QR-разложение имеет к задаче регрессии. Упомянем одно из возможных применений.\n",
    "\n",
    "Допустим, мы нашли QR-разложение матрицы $X$, а именно: $X = QR$. Тогда\n",
    "$$X^TX = (QR)^T(QR) = R^TQ^TQR = R^TR$$"
   ]
  },
  {
   "cell_type": "markdown",
   "metadata": {
    "id": "2XfyZf8zAn7_"
   },
   "source": [
    "Поскольку в задаче регрессии матрица $X$ обычно полного ранга (то есть её столбцы линейно независимы), матрица $R$ будет квадратной. Благодаря этому нашу обычную формулу для набора регрессионных коэффициентов $\\hat{a}$ можно переписать в следующем виде:\n",
    "\n",
    "$$\\hat{a} = (X^TX)^{-1}X^Ty = (R^TR)^{-1}(QR)^Ty = R^{-1}(R^T)^{-1}R^TQ^Ty = R^{-1}Q^Ty$$\n",
    "\n",
    "Как видите, формула стала проще. Более того, зачастую обращение матрицы $R$ может быть численно более устойчиво, чем обращение матрицы $X^TX$."
   ]
  }
 ],
 "metadata": {
  "colab": {
   "collapsed_sections": [],
   "name": "HSE Lab (linear regression) 21-22.ipynb",
   "provenance": []
  },
  "kernelspec": {
   "display_name": "Python 3 (ipykernel)",
   "language": "python",
   "name": "python3"
  },
  "language_info": {
   "codemirror_mode": {
    "name": "ipython",
    "version": 3
   },
   "file_extension": ".py",
   "mimetype": "text/x-python",
   "name": "python",
   "nbconvert_exporter": "python",
   "pygments_lexer": "ipython3",
   "version": "3.9.7"
  }
 },
 "nbformat": 4,
 "nbformat_minor": 1
}
